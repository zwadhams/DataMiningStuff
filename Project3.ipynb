{
  "nbformat": 4,
  "nbformat_minor": 0,
  "metadata": {
    "colab": {
      "name": "Project3.ipynb",
      "provenance": [],
      "collapsed_sections": [],
      "include_colab_link": true
    },
    "kernelspec": {
      "name": "python3",
      "display_name": "Python 3"
    },
    "language_info": {
      "name": "python"
    }
  },
  "cells": [
    {
      "cell_type": "markdown",
      "metadata": {
        "id": "view-in-github",
        "colab_type": "text"
      },
      "source": [
        "<a href=\"https://colab.research.google.com/github/zwadhams/DataMiningStuff/blob/main/Project3.ipynb\" target=\"_parent\"><img src=\"https://colab.research.google.com/assets/colab-badge.svg\" alt=\"Open In Colab\"/></a>"
      ]
    },
    {
      "cell_type": "code",
      "source": [
        "import numpy as np\n",
        "from sklearn.decomposition import PCA\n",
        "import matplotlib.pyplot as plt\n",
        "from sklearn.cluster import DBSCAN\n",
        "from sklearn.datasets import load_iris\n",
        "from sklearn.datasets import make_blobs\n",
        "from sklearn.cluster import KMeans"
      ],
      "metadata": {
        "id": "C_f1aJaFf5p2"
      },
      "execution_count": 5,
      "outputs": []
    },
    {
      "cell_type": "markdown",
      "source": [
        "CSCI 347\n",
        "\n",
        "Project 03: Dimensinality Reduction and Clustering\n",
        "\n",
        "This project may be completed individually or with group of up to size three. Turn in the code\n",
        "and written responses in both Brightspace and Gradescope.\n",
        "\n",
        "  Choose a data set that you are interested in from the UCI Machine Learning Repository that has\n",
        "at least five numerical attributes, and that you believe may contain clusters. Only use the numerical\n",
        "attributes for this project. Note: if you are planning to complete the extra credit portion of this\n",
        "project, you will need to use a data set that has class labels (ground truth cluster labels), i.e., a\n",
        "classification data set, in order to compute the accuracy of the clustering. If you would like to use\n",
        "a data set from a different source, please discuss this with me"
      ],
      "metadata": {
        "id": "LsK0ERqXUX8W"
      }
    },
    {
      "cell_type": "markdown",
      "source": [
        "Potential Data Set? https://archive.ics.uci.edu/ml/datasets/Raisin+Dataset"
      ],
      "metadata": {
        "id": "KExU8hh27-4V"
      }
    },
    {
      "cell_type": "markdown",
      "source": [
        "Zach Wadhams and Kruize Christensen"
      ],
      "metadata": {
        "id": "4lDmmZE065jU"
      }
    },
    {
      "cell_type": "markdown",
      "source": [
        "##Problem 1: Think about the data"
      ],
      "metadata": {
        "id": "sodiTMtB_y8O"
      }
    },
    {
      "cell_type": "markdown",
      "source": [
        "In a well-written paragraph, answer the following questions:\n",
        "1. (1 point) Why are you interested in this data set?\n",
        "2. (1 point) How many numerical attributes and categorical attributes are there in the data set?\n",
        "3. (1 point) Are there any missing values? If there are missing values, how are you planning to\n",
        "handle these? (Will all data instances with missing values be removed? Will all attributes\n",
        "with missing values be removed? Will missing values be imputed? If so, how?)\n",
        "4. Before doing any analysis, answer the following questions:\n",
        "\n",
        "(a) (1 point) Why do you expect clusters to be present in the data?\n",
        "\n",
        "(b) (1 point) Why might finding clusters in this data set be helpful? How might this help\n",
        "us understand or analyze the data?\n",
        "\n",
        "(c) (1 point) How many clusters do you expect to see in the data? Provide a range of values\n",
        "to answer this question. For example, 2 to 4. Why do you expect a number of clusters\n",
        "in this range?\n",
        "\n",
        "(d) (1 point) Do you expect that the clusters will be of similar size (i.e., cluster 1 is about\n",
        "the same size as cluster 2, is about the same size as cluster 3, etc..)? Why or why not?"
      ],
      "metadata": {
        "id": "lkF8-xPVU0Ft"
      }
    },
    {
      "cell_type": "markdown",
      "source": [
        "We are interested in this dataset because of it's relative simplicity and high chance for clustering. The morphological differences between these two species of raisins are intriguing and there is a high potential for clustering within them. This data set has 7 numerical attributes and 1 categorical attribute which is the species of raisins. The data set also has no missing values so no handling of them is needed. \n",
        "\n",
        "We expect the clusters to be present because there are two species of raisins. It would make sense that the samples from one species of raisin would be similar to the same species and different from the other one. Finding clusters in this data would be useful because we could determine the differences between the two species of raisin, particularly in their morphology. We would expect to see 7-14 clusters because for each of the numberical attributes, the raisins of like kinds are expected to cluster together which gives us the potential for each numerical attribute having two highly defines clusters which adds up to 14 total clusters. Because of this, the clusters will most likely be of similar size. "
      ],
      "metadata": {
        "id": "VLA6W1it_4tU"
      }
    },
    {
      "cell_type": "markdown",
      "source": [
        "##Problem 2: Write Python code for clustering"
      ],
      "metadata": {
        "id": "sTn6Sj6WAIng"
      }
    },
    {
      "cell_type": "markdown",
      "source": [
        "Write the following functions in Python. You may use scikit-learn or other packages to check\n",
        "the correctness of your implementation, but you may not use any existing clustering algorithm\n",
        "implementation in your code."
      ],
      "metadata": {
        "id": "fvR3dsRjVGVV"
      }
    },
    {
      "cell_type": "markdown",
      "source": [
        "###1. (10 points) \n",
        "A function that implements the k-means clustering algorithm. The function\n",
        "should take a data matrix, a number of clusters k, and a convergence parameter \u000f, as input,\n",
        "and return the representatives (means) as well as the clusters found using k-means. If the\n",
        "distance is the same between a point and more than one representative (mean), then assign\n",
        "the point to the mean corresponding to the cluster with the lowest index."
      ],
      "metadata": {
        "id": "kY58kLb7VMfM"
      }
    },
    {
      "cell_type": "code",
      "execution_count": 6,
      "metadata": {
        "id": "sWQmA8L66g35"
      },
      "outputs": [],
      "source": [
        "def Kmeans(matrix, numClusters, convergenge):\n",
        "  pass\n",
        "\n"
      ]
    },
    {
      "cell_type": "markdown",
      "source": [
        "###2. (10 points) \n",
        "A function that implements the DBSCAN clustering algorithm. The function\n",
        "should take a data matrix and the parameters minpts and \u000f, as input, and return the clusters\n",
        "found using DBSCAN, and for each data point a label of core, border, or noise point."
      ],
      "metadata": {
        "id": "LqTBykM8VbKD"
      }
    },
    {
      "cell_type": "code",
      "source": [
        "def DBSCAN(matrix, minpts):\n",
        "  pass\n",
        "  "
      ],
      "metadata": {
        "id": "p3Y3gt1hVeZV"
      },
      "execution_count": 7,
      "outputs": []
    },
    {
      "cell_type": "markdown",
      "source": [
        "###3. (Extra Credit - 5 points)\n",
        "A function that computes the precision of a clustering. The\n",
        "function should take a list of true cluster labels and a list of the cluster labels returned by\n",
        "some clustering algorithm, and return the precision of the clustering."
      ],
      "metadata": {
        "id": "GQWKpTX5Vet5"
      }
    },
    {
      "cell_type": "code",
      "source": [
        ""
      ],
      "metadata": {
        "id": "Akwt1Hq2VnfZ"
      },
      "execution_count": 7,
      "outputs": []
    },
    {
      "cell_type": "markdown",
      "source": [
        "##Part 3: Analyze your data\n",
        "Report the following, using tables or figures as appropriate. You may use scikit-learn’s implementation of k-means and DBSCAN, but you are encouraged to first try using your own implementations\n",
        "on real-world data.\n"
      ],
      "metadata": {
        "id": "g9Y45lkAVoME"
      }
    },
    {
      "cell_type": "code",
      "source": [
        "raisinArray = np.loadtxt(open(\"Raisin_Dataset.csv\", \"rb\"), delimiter=\",\")\n",
        "print(raisinArray)\n"
      ],
      "metadata": {
        "colab": {
          "base_uri": "https://localhost:8080/"
        },
        "id": "vypKac2N7txy",
        "outputId": "7ab1a3bb-d818-4a13-ae94-4fc2d8794ecd"
      },
      "execution_count": 8,
      "outputs": [
        {
          "output_type": "stream",
          "name": "stdout",
          "text": [
            "[[8.75240000e+04 4.42246011e+02 2.53291155e+02 ... 7.58650579e-01\n",
            "  1.18404000e+03 0.00000000e+00]\n",
            " [7.51660000e+04 4.06690687e+02 2.43032436e+02 ... 6.84129570e-01\n",
            "  1.12178600e+03 0.00000000e+00]\n",
            " [9.08560000e+04 4.42267048e+02 2.66328318e+02 ... 6.37612812e-01\n",
            "  1.20857500e+03 0.00000000e+00]\n",
            " ...\n",
            " [9.96570000e+04 4.31706981e+02 2.98837323e+02 ... 7.41098519e-01\n",
            "  1.29282800e+03 1.00000000e+00]\n",
            " [9.35230000e+04 4.76344094e+02 2.54176054e+02 ... 6.58798253e-01\n",
            "  1.25854800e+03 1.00000000e+00]\n",
            " [8.56090000e+04 5.12081774e+02 2.15271976e+02 ... 6.32019963e-01\n",
            "  1.27286200e+03 1.00000000e+00]]\n"
          ]
        }
      ]
    },
    {
      "cell_type": "markdown",
      "source": [
        "###1. (4 points) \n",
        "Use sklearn’s PCA implementation to linearly transform the data to two dimensions.\n",
        "Create a scatter plot of the data, with the x-axis corresponding to coordinates of the data\n",
        "along the first principal component, and the y-axis corresponding to coordinates of the data\n",
        "along the second principal component. Does it look like there are clusters in these two\n",
        "dimensions? If so, how many would you say there are?"
      ],
      "metadata": {
        "id": "dsk_YFFmVvKd"
      }
    },
    {
      "cell_type": "code",
      "source": [
        "pca = PCA(n_components=2)\n",
        "raisinPCA = pca.fit_transform(raisinArray)\n",
        "\n",
        "plt.scatter(raisinPCA[:, 0], raisinPCA[:, 1])\n",
        "plt.xlabel(\"first principal component\")\n",
        "plt.ylabel(\"second principal component\")\n",
        "plt.show()"
      ],
      "metadata": {
        "colab": {
          "base_uri": "https://localhost:8080/",
          "height": 279
        },
        "id": "jaFS3vmvBfLv",
        "outputId": "02092263-33f2-43f4-add1-c7e80c87ea72"
      },
      "execution_count": 9,
      "outputs": [
        {
          "output_type": "display_data",
          "data": {
            "text/plain": [
              "<Figure size 432x288 with 1 Axes>"
            ],
            "image/png": "[encoded data removed]"
          },
          "metadata": {
            "needs_background": "light"
          }
        }
      ]
    },
    {
      "cell_type": "markdown",
      "source": [
        "From this plot we can see that the data is mostly centered around 0 on the y-axis. There aren't any distinct clusters with the data instead forming one elongated cluster with just a few outliers above. It also looks like as the x-axis value increases, the y-axis value decreases slightly."
      ],
      "metadata": {
        "id": "Mn6t0PPtxd9K"
      }
    },
    {
      "cell_type": "markdown",
      "source": [
        "###2. (3 points) \n",
        "Use sklearn’s PCA implementation to linearly transform the data, without specifying the number of components to use. Create a plot with r, the number of components\n",
        "(i.e., dimensionality), on the x-axis, and f(r), the fraction of total variance captured in the\n",
        "first r principal components, on the y-axis. Based on this plot, choose a number of principal\n",
        "components to reduce the dimensionality of the data. Report how many principal components\n",
        "will be used as well as the faction of total variance captured using this many components."
      ],
      "metadata": {
        "id": "HtnkPbuWV0dD"
      }
    },
    {
      "cell_type": "code",
      "source": [
        "pca2 = PCA()\n",
        "raisinPCA2 = pca2.fit_transform(raisinArray)\n",
        "\n",
        "print(raisinPCA2)\n",
        "len(raisinPCA2)\n",
        "print(pca2.explained_variance_ratio_)\n",
        "for i in range(8):\n",
        "  plt.scatter(i, pca2.explained_variance_ratio_[i])\n",
        "\n",
        "plt.show()"
      ],
      "metadata": {
        "id": "I9jEM7ZskKez",
        "colab": {
          "base_uri": "https://localhost:8080/",
          "height": 525
        },
        "outputId": "baed23c5-efe4-4d91-8d01-3e2afc1293fa"
      },
      "execution_count": 26,
      "outputs": [
        {
          "output_type": "stream",
          "name": "stdout",
          "text": [
            "[[-6.56076563e+02 -2.39494896e+02 -2.84845208e+01 ...  5.81229227e-01\n",
            "  -6.51988495e-02 -2.60750182e-02]\n",
            " [-1.76944327e+04  5.64730885e+02 -2.58360431e+01 ...  5.00453002e-01\n",
            "   1.56281239e-03 -3.09223946e-02]\n",
            " [ 3.93863494e+03 -4.55555724e+02 -2.75286538e+01 ...  6.26004961e-01\n",
            "   5.89690011e-02 -3.09909012e-02]\n",
            " ...\n",
            " [ 1.90893241e+04  1.85643059e+03  3.18919910e+01 ... -3.81936729e-01\n",
            "  -5.35647612e-02 -2.02319929e-02]\n",
            " [ 8.62669069e+03  3.38256021e+02 -5.29239371e+01 ... -2.92069062e-01\n",
            "   1.84898388e-02 -1.18980224e-02]\n",
            " [-2.95404808e+03  2.14203047e+02 -1.49413972e+02 ... -8.87765310e-02\n",
            "   1.02477611e-02  4.08956771e-02]]\n",
            "[9.97961885e-01 2.03684406e-03 1.07171065e-06 1.84449123e-07\n",
            " 1.44262877e-08 3.87672782e-11 5.59451438e-13 4.86424687e-13]\n"
          ]
        },
        {
          "output_type": "display_data",
          "data": {
            "text/plain": [
              "<Figure size 432x288 with 1 Axes>"
            ],
            "image/png": "[encoded data removed]"
          },
          "metadata": {
            "needs_background": "light"
          }
        }
      ]
    },
    {
      "cell_type": "markdown",
      "source": [
        "###3. (5 points) \n",
        "For both the original and the reduced-dimensionality data obtained using PCA in\n",
        "question 3.2, do the following: Experiment with a range of values for the number of clusters,\n",
        "k, that you pass as input to the k-means function, to find clusters in the chosen data set. Use\n",
        "at least 5 different values of k. For each value of k, report the value of the objective function\n",
        "for that choice of k.\n"
      ],
      "metadata": {
        "id": "NBFUquvDV5gu"
      }
    },
    {
      "cell_type": "code",
      "source": [
        ""
      ],
      "metadata": {
        "id": "nmR_EJMBkLKi"
      },
      "execution_count": 9,
      "outputs": []
    },
    {
      "cell_type": "markdown",
      "source": [
        "###4. (5 points) \n",
        "For both the original and the reduced-dimensionality data obtained using PCA in\n",
        "question 3.2, do the following: Experiment with a range of values for the minpts and \u000f input\n",
        "parameters to the DBSCAN function to find clusters in the chosen data set. First, keep \u000f\n",
        "fixed and try out a range of different values for minpts. Then keep minpts fixed, and try a\n",
        "range of values for \u000f. Use at least 5 values of \u000f and at least 5 values of minpts. Report the\n",
        "number of clusters found for each (minpts, \u000f) pair tested.\n"
      ],
      "metadata": {
        "id": "YeI4E7GYWDHu"
      }
    },
    {
      "cell_type": "code",
      "source": [
        ""
      ],
      "metadata": {
        "id": "dKs6qgx9kMew"
      },
      "execution_count": 9,
      "outputs": []
    },
    {
      "cell_type": "markdown",
      "source": [
        "###5. (Extra credit - 3 points)\n",
        "Create a plot of clustering precision for each value of k used in\n",
        "question 3.3, each value of \u000f used in question 3.4, and each value of minpts used in question\n",
        "3.4, for both the original and reduced-dimensionality data.\n"
      ],
      "metadata": {
        "id": "nLPj2moWWIXp"
      }
    },
    {
      "cell_type": "code",
      "source": [
        ""
      ],
      "metadata": {
        "id": "LimCYo_NkM_E"
      },
      "execution_count": 9,
      "outputs": []
    },
    {
      "cell_type": "markdown",
      "source": [
        "#Tips and Acknowledgements\n",
        "Make sure to submit your answer as a PDF on Gradscope and Brightspace. Make sure to show\n",
        "your work. Include any code snippets you used to generate an answer, using comments in the code to clearly indicate which problem corresponds to which code.\n",
        "\n",
        "**Acknowledgements**: Project adapted from assignments of Veronika Strnadova-Neeley"
      ],
      "metadata": {
        "id": "juJqlg__WT47"
      }
    }
  ]
}