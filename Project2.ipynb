{
  "nbformat": 4,
  "nbformat_minor": 0,
  "metadata": {
    "colab": {
      "name": "Project2.ipynb",
      "provenance": [],
      "collapsed_sections": [],
      "include_colab_link": true
    },
    "kernelspec": {
      "name": "python3",
      "display_name": "Python 3"
    },
    "language_info": {
      "name": "python"
    }
  },
  "cells": [
    {
      "cell_type": "markdown",
      "metadata": {
        "id": "view-in-github",
        "colab_type": "text"
      },
      "source": [
        "<a href=\"https://colab.research.google.com/github/zwadhams/DataMiningStuff/blob/main/Project2.ipynb\" target=\"_parent\"><img src=\"https://colab.research.google.com/assets/colab-badge.svg\" alt=\"Open In Colab\"/></a>"
      ]
    },
    {
      "cell_type": "markdown",
      "source": [
        "CSCI 347 Project 2. Zach Wadhams & Kruize Christensen. Dataset Used: \n",
        "https://snap.stanford.edu/data/ego-Facebook.html"
      ],
      "metadata": {
        "id": "Az4NSP7oag5N"
      }
    },
    {
      "cell_type": "markdown",
      "source": [
        "#Project 02: Exploring Graph Data\n",
        "\n",
        "Run all the analysis in this project on the largest connected component of the graph. Note\n",
        "that many of these datasets are quite large. If analyzing the data its taking too long, you may\n",
        "pre-process it by taking a sample of the graph first, and then extracting the largest connected\n",
        "component, to get the graph down to a manageable size."
      ],
      "metadata": {
        "id": "Ek--oNFeBZZ_"
      }
    },
    {
      "cell_type": "markdown",
      "source": [
        "##Problem 1: Think about the data\n",
        "In a well-written paragraph, answer the following questions:\n",
        "\n",
        "\n",
        "*   (3 points) Why are you interested in this data set?\n",
        "*   (3 points) Clearly state if/how the data was pre-processed (Was the largest connected component extracted? Was a sample of vertices or edges taken? If so, describe the sampling\n",
        "process that was used.)\n",
        "*   (4 points) Before doing any analysis, answer the question. What characteristics do you expect\n",
        "the vertices with high centrality values to have and why? Specifically, think about non-graph\n",
        "characteristics. For example, in a graph where nodes represent cities and edges are roads\n",
        "between them, we might expect highly central cities to have high populations or to house\n",
        "major industries.\n",
        "\n",
        "\n",
        "\n",
        "\n"
      ],
      "metadata": {
        "id": "S2abDru01Xzt"
      }
    },
    {
      "cell_type": "markdown",
      "source": [
        "We are particularly interested in this data because of the massive social network that Facebook contains. A user's friend network may connect them directly or indirectly to many thousands of people. From even a relatively small sample of around 4000 users, which is how many this dataset contains, the scope of Facebook's potential connections is revealed. This data was only processed by way of anonymization. When the data was collected, any personably identifiable information was replaced by placeholder values. Essentially this is raw data that only has the users names or ID's removed. We did not alter this data set at all. We would expect those users with the highest number of friends to have the highest centrality values. This would be because with more friends comes more 'friends of friends' which would increase the centrality of that user. Essentially the more people you know, the more people you know. \n",
        "\n"
      ],
      "metadata": {
        "id": "80hAAEUO1Zjw"
      }
    },
    {
      "cell_type": "markdown",
      "source": [
        "##Problem 2: Write Python code for graph analysis\n",
        "Write the following functions in Python. You may assume that the input graph is unweighted,\n",
        "undirected, and simple – has no parallel edges and no loops. Functions provided by networkx can\n",
        "be used within your code, as long as the function does not perform the same task as what you\n",
        "are being asked to implement. For example, you cannot use networkx’s betweenness centrality\n",
        "function within your own betweenness centrality function, but you can use networkx’s functions for\n",
        "finding shortest paths. You may also assume that vertices are represented as integers (so the pair\n",
        "(1,3) indicates that there is an edge between vertex 1 and 3, for example)."
      ],
      "metadata": {
        "id": "0SMZUUCO25x6"
      }
    },
    {
      "cell_type": "markdown",
      "source": [
        "###Graph read-in"
      ],
      "metadata": {
        "id": "mvBebpGb3LI8"
      }
    },
    {
      "cell_type": "code",
      "source": [
        "import networkx as nx\n",
        "import numpy as np\n",
        "import matplotlib.pyplot as plt\n",
        "import math\n",
        "import random\n",
        "def readGraphIntoArray(filename):\n",
        "    array = np.loadtxt(filename, dtype=int)\n",
        "    print(array)\n",
        "    return array\n",
        "\n",
        "def getGraph(array):\n",
        "    G = nx.Graph()\n",
        "    G.add_edges_from(array)\n",
        "    #nx.draw(G)  # networkx draw()\n",
        "    #plt.draw()  # pyplot draw()\n",
        "    return G\n",
        "\n",
        "graphArray = readGraphIntoArray('facebook_combined.txt.gz')\n",
        "circles = getGraph(graphArray)\n",
        "print(circles)\n"
      ],
      "metadata": {
        "id": "ZfTWc8JC3Nwf",
        "colab": {
          "base_uri": "https://localhost:8080/"
        },
        "outputId": "309ecf74-cf79-4adb-943d-16cc91dcdb56"
      },
      "execution_count": 1,
      "outputs": [
        {
          "output_type": "stream",
          "name": "stdout",
          "text": [
            "[[   0    1]\n",
            " [   0    2]\n",
            " [   0    3]\n",
            " ...\n",
            " [4027 4032]\n",
            " [4027 4038]\n",
            " [4031 4038]]\n",
            "Graph with 4039 nodes and 88234 edges\n"
          ]
        }
      ]
    },
    {
      "cell_type": "markdown",
      "source": [
        "###1. (5 points) Number of vertices: A function that takes the following input: a list of edges representing a graph, where each edge is a pair. The output should be the number of vertices.\n"
      ],
      "metadata": {
        "id": "CW6ifgqF__8c"
      }
    },
    {
      "cell_type": "code",
      "source": [
        "def getNumVertices(edgesArray):\n",
        "    number = edgesArray[-1, 1] + 1\n",
        "    return number\n",
        "\n",
        "print(\"Number of vertices in graph:\", getNumVertices(graphArray))"
      ],
      "metadata": {
        "colab": {
          "base_uri": "https://localhost:8080/"
        },
        "id": "yJ8sznu_kpmC",
        "outputId": "8b23e004-4fb7-4851-a6e1-8d110e1a2013"
      },
      "execution_count": 2,
      "outputs": [
        {
          "output_type": "stream",
          "name": "stdout",
          "text": [
            "Number of vertices in graph: 4039\n"
          ]
        }
      ]
    },
    {
      "cell_type": "markdown",
      "source": [
        "###2. (5 points) Degree of a vertex: A function that takes the following input: a list of edges representing a graph, where each edge is a pair, and a vertex index that is an integer. The output should be the degree of the input vertex."
      ],
      "metadata": {
        "id": "IkIVA3eaADyQ"
      }
    },
    {
      "cell_type": "code",
      "source": [
        "def getVertexDegree(edgesArray, vertexIndex):\n",
        "    inDegree = 0\n",
        "\n",
        "    for i in edgesArray:\n",
        "      if vertexIndex in i:\n",
        "        inDegree += 1\n",
        "\n",
        "    return inDegree\n",
        "\n",
        "print(\"Degree of vertex 20\", getVertexDegree(graphArray, 20))"
      ],
      "metadata": {
        "id": "RL9Pb7xx1Hsu",
        "colab": {
          "base_uri": "https://localhost:8080/"
        },
        "outputId": "5269b8b2-6165-4288-a035-5411037a1719"
      },
      "execution_count": 3,
      "outputs": [
        {
          "output_type": "stream",
          "name": "stdout",
          "text": [
            "Degree of vertex 20 15\n"
          ]
        }
      ]
    },
    {
      "cell_type": "markdown",
      "source": [
        "###3. (5 points) Clustering coefficient of a vertex: A function that takes the following input: a list of edges representing a graph, where each edge is a pair, and a vertex index that is an integer. The output should be the clustering coefficient of the input vertex."
      ],
      "metadata": {
        "id": "Qh2tNye1AMLx"
      }
    },
    {
      "cell_type": "code",
      "source": [
        "def getClusteringCoefficient(edgesArray, vertexIndex):\n",
        "  pairs = []\n",
        "  for edgesArray1, edgesArray2 in edgesArray:\n",
        "    if i in edgesArray1:\n",
        "      pairs.append(edgesArray2)\n",
        "    if i in edgesArray2:\n",
        "      pairs.append(edgesArray1)\n",
        "  if len(pairs) < 2:\n",
        "    return 0\n",
        "  else:\n",
        "    numEdges = 0\n",
        "    for edges in edgesArray\n",
        "      if (edge[0] in pairs) and (edge[1] in pairs):\n",
        "        numEdges += 1\n",
        "    totalEdges = math.comb(len(pairs),2)\n",
        "    result = numEdges/totalEdges\n",
        "    return result\n",
        "  "
      ],
      "metadata": {
        "id": "ywx_TpfR5epX",
        "colab": {
          "base_uri": "https://localhost:8080/",
          "height": 130
        },
        "outputId": "c0cf1e6d-1e70-465b-bf02-4ea72b52d1be"
      },
      "execution_count": 4,
      "outputs": [
        {
          "output_type": "error",
          "ename": "SyntaxError",
          "evalue": "ignored",
          "traceback": [
            "\u001b[0;36m  File \u001b[0;32m\"<ipython-input-4-602c36ebb48a>\"\u001b[0;36m, line \u001b[0;32m12\u001b[0m\n\u001b[0;31m    for edges in edgesArray\u001b[0m\n\u001b[0m                           ^\u001b[0m\n\u001b[0;31mSyntaxError\u001b[0m\u001b[0;31m:\u001b[0m invalid syntax\n"
          ]
        }
      ]
    },
    {
      "cell_type": "markdown",
      "source": [
        "###4. (5 points) Betweenness centrality of a vertex: A function that takes the following input: a list of edges representing a graph, where each edge is a pair, and a vertex index that is an integer. The output should be the betweenness centrality of the input vertex."
      ],
      "metadata": {
        "id": "47kMLMTDASio"
      }
    },
    {
      "cell_type": "code",
      "source": [
        "def getBetweennessCentrality(edgesArray, vertexIndex):\n",
        "  \n",
        "    return betweenness\n",
        "\n"
      ],
      "metadata": {
        "id": "GNACZmwveWD7"
      },
      "execution_count": null,
      "outputs": []
    },
    {
      "cell_type": "markdown",
      "source": [
        "###5. (5 points) Adjacency matrix. A function that takes the following input: a list of edges representing a graph, where each edge is a pair. The output should be the dense adjacency matrix of the graph."
      ],
      "metadata": {
        "id": "Lx17XofqAXwe"
      }
    },
    {
      "cell_type": "code",
      "source": [
        "from collections import defaultdict\n",
        "def createAdjacencyMatrix(edgesArray):\n",
        "    adjMatrix = defaultdict(set)\n",
        "    for x, y in edgesArray:\n",
        "        adjMatrix[x].add(y)\n",
        "        adjMatrix[y].add(x) \n",
        "    return adjMatrix\n",
        "\n",
        "print(createAdjacencyMatrix(graphArray))\n",
        "\n",
        "adjMatrixfor6 = nx.adjacency_matrix(circles)"
      ],
      "metadata": {
        "id": "znrTBcJ-eWeA"
      },
      "execution_count": null,
      "outputs": []
    },
    {
      "cell_type": "markdown",
      "source": [
        "Our dataset is too long to effictively display the adjacency matrix in google collab but we have checked and verified that this matrix is correct using networkx."
      ],
      "metadata": {
        "id": "cglY3cKghgwG"
      }
    },
    {
      "cell_type": "markdown",
      "source": [
        "###6. (10 points) Prestige centrality of vertices: A function that takes the following input: a dense adjacency matrix representation of a graph. The output should be the prestige values for each vertex in the graph. (Note, you may NOT use linear algebra functions in numpy, spicy, or any other library to find eigenvectors but you MAY use linear algebra functions for transpose, matrix-vector multiplication, computing the dot product, the norm, and argmax.)\n"
      ],
      "metadata": {
        "id": "RNF4_Y45Ac6B"
      }
    },
    {
      "cell_type": "code",
      "source": [
        "def getPrestigeCentrality(adjMatrix):\n",
        "\n",
        "\n",
        "    return allPrestige\n",
        "\n",
        "print(getPrestigeCentrality(adjMatrixfor6))"
      ],
      "metadata": {
        "id": "1xRqt_bGeWyl"
      },
      "execution_count": null,
      "outputs": []
    },
    {
      "cell_type": "markdown",
      "source": [
        "##Problem 3: Analyze the graph data\n",
        "Using tables or figures as appropriate, report the following. You may treat the graph as a simple\n",
        "undirected, unweighted graph. You may use networkx functions in all of Part 3, but you are\n",
        "encouraged to test out your functions from Part 2 on real-world data."
      ],
      "metadata": {
        "id": "zejAMIqI2_Tm"
      }
    },
    {
      "cell_type": "markdown",
      "source": [
        "###1. (5 points) Produce a visualization of the graph (or graph sample that you used)"
      ],
      "metadata": {
        "id": "Me2XqfW4-oea"
      }
    },
    {
      "cell_type": "code",
      "source": [
        "nx.draw(circles)\n",
        "plt.draw()"
      ],
      "metadata": {
        "id": "_ABbtbKBzxQo"
      },
      "execution_count": null,
      "outputs": []
    },
    {
      "cell_type": "markdown",
      "source": [
        "###2. (3 points) Find the 10 nodes with the highest degree."
      ],
      "metadata": {
        "id": "Ci8C8F02-80v"
      }
    },
    {
      "cell_type": "code",
      "source": [
        "highestDegrees = sorted(circles.degree, key=lambda x: x[1], reverse=True)\n",
        "print(\"10 highest degree nodes in format (node, degree)\")\n",
        "for i in range(10): \n",
        "  print(highestDegrees[i])\n"
      ],
      "metadata": {
        "id": "ImJANKiP5nCU"
      },
      "execution_count": null,
      "outputs": []
    },
    {
      "cell_type": "markdown",
      "source": [
        "###3. (3 points) Find the 10 nodes with the highest betweenness centrality"
      ],
      "metadata": {
        "id": "p4ud5tx-_RJ3"
      }
    },
    {
      "cell_type": "code",
      "source": [
        "##TAKES A WHILE TO RUN\n",
        "highestBetCent = nx.betweenness_centrality(circles)\n",
        "c = Counter(highestBetCent)\n",
        "print(\"Top 10 nodes with highest betweeness centrality in format (node, betweenessCentrality)\")\n",
        "c.most_common(10)"
      ],
      "metadata": {
        "id": "CFlyjdE8PZU0"
      },
      "execution_count": null,
      "outputs": []
    },
    {
      "cell_type": "markdown",
      "source": [
        "###4. (3 points) Find the 10 nodes with the highest clustering coefficient. If there are ties, choose 10 to report and explain how the 10 were chosen.\n"
      ],
      "metadata": {
        "id": "AFB90TU1_RZ_"
      }
    },
    {
      "cell_type": "code",
      "source": [
        "highestClustCoef = nx.clustering(circles)\n",
        "c = Counter(highestClustCoef)\n",
        "print(\"Top 10 nodes with highest clustering coefficient in format (node, clusteringCoefficient)\")\n",
        "c.most_common(10)"
      ],
      "metadata": {
        "id": "EN9F25j8-1YS"
      },
      "execution_count": null,
      "outputs": []
    },
    {
      "cell_type": "markdown",
      "source": [
        "The top 10 were chosen based on the lowest node number."
      ],
      "metadata": {
        "id": "743bzcIpSOp-"
      }
    },
    {
      "cell_type": "markdown",
      "source": [
        "###5. (3 points) Find the top 10 nodes as ranked by prestige centrality (eigenvector centrality in networkx)."
      ],
      "metadata": {
        "id": "q0NPKIqO_Rjf"
      }
    },
    {
      "cell_type": "code",
      "source": [
        "highestPrestigeCentrality = nx.eigenvector_centrality(circles)\n",
        "c = Counter(highestPrestigeCentrality)\n",
        "print(\"Top 10 nodes with highest prestige centrality in format (node, prestigeCentrality)\")\n",
        "c.most_common(10)"
      ],
      "metadata": {
        "id": "YTRf5l2tQ3rn"
      },
      "execution_count": null,
      "outputs": []
    },
    {
      "cell_type": "markdown",
      "source": [
        "###6. (3 points) Find the top 10 nodes as ranked by Pagerank."
      ],
      "metadata": {
        "id": "kkTDHIde_Rvw"
      }
    },
    {
      "cell_type": "code",
      "source": [
        "highestPagerank = nx.pagerank(circles)\n",
        "c = Counter(highestPagerank)\n",
        "print(\"Top 10 nodes with highest pagerank in format (node, pagerank)\")\n",
        "c.most_common(10)"
      ],
      "metadata": {
        "id": "_f7b_lT_Rr13"
      },
      "execution_count": null,
      "outputs": []
    },
    {
      "cell_type": "markdown",
      "source": [
        "### 7. (3 points) Comment on the differences and similarities in questions Part 3 1-6. Are the highly ranked nodes mostly the same? Do you notice significant differences in the rankings? Why do you think this is the case?"
      ],
      "metadata": {
        "id": "LmHP_4Fs_NVv"
      }
    },
    {
      "cell_type": "markdown",
      "source": [
        "Some metrics have nodes that are close together and some do not. For example, many of the nodes with the highest prestige centrality are relatively close together (ie; 2206,2123,2233). Also some are seemingly completely unrelated such as the pagerank of the nodes (ie; 3437, 107, 1684, 414). This is most likely the case because if you look at our graph in Part 3 1, you can see that there are many different clusters that are close together. Some of these are larger are arranged in different shapes and this causes the differences in the node metrics.  "
      ],
      "metadata": {
        "id": "c9w1PbjedUGV"
      }
    }
  ]
}