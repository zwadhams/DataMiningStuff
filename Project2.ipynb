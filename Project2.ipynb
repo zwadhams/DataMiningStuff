{
  "nbformat": 4,
  "nbformat_minor": 0,
  "metadata": {
    "colab": {
      "name": "Project2.ipynb",
      "provenance": [],
      "collapsed_sections": [],
      "include_colab_link": true
    },
    "kernelspec": {
      "name": "python3",
      "display_name": "Python 3"
    },
    "language_info": {
      "name": "python"
    }
  },
  "cells": [
    {
      "cell_type": "markdown",
      "metadata": {
        "id": "view-in-github",
        "colab_type": "text"
      },
      "source": [
        "<a href=\"https://colab.research.google.com/github/zwadhams/DataMiningStuff/blob/main/Project2.ipynb\" target=\"_parent\"><img src=\"https://colab.research.google.com/assets/colab-badge.svg\" alt=\"Open In Colab\"/></a>"
      ]
    },
    {
      "cell_type": "markdown",
      "source": [
        "CSCI 347 Project 2. Zach Wadhams & Kruize Christensen. Dataset Used: \n",
        "https://snap.stanford.edu/data/ego-Facebook.html"
      ],
      "metadata": {
        "id": "Az4NSP7oag5N"
      }
    },
    {
      "cell_type": "markdown",
      "source": [
        "#Project 02: Exploring Graph Data\n",
        "\n",
        "Run all the analysis in this project on the largest connected component of the graph. Note\n",
        "that many of these datasets are quite large. If analyzing the data its taking too long, you may\n",
        "pre-process it by taking a sample of the graph first, and then extracting the largest connected\n",
        "component, to get the graph down to a manageable size."
      ],
      "metadata": {
        "id": "Ek--oNFeBZZ_"
      }
    },
    {
      "cell_type": "markdown",
      "source": [
        "##Problem 1: Think about the data\n",
        "In a well-written paragraph, answer the following questions:\n",
        "\n",
        "\n",
        "*   (3 points) Why are you interested in this data set?\n",
        "*   (3 points) Clearly state if/how the data was pre-processed (Was the largest connected component extracted? Was a sample of vertices or edges taken? If so, describe the sampling\n",
        "process that was used.)\n",
        "*   (4 points) Before doing any analysis, answer the question. What characteristics do you expect\n",
        "the vertices with high centrality values to have and why? Specifically, think about non-graph\n",
        "characteristics. For example, in a graph where nodes represent cities and edges are roads\n",
        "between them, we might expect highly central cities to have high populations or to house\n",
        "major industries.\n",
        "\n",
        "\n",
        "\n",
        "\n"
      ],
      "metadata": {
        "id": "S2abDru01Xzt"
      }
    },
    {
      "cell_type": "markdown",
      "source": [
        "We are particularly interested in this data because of the massive social network that Facebook contains. A user's friend network may connect them directly or indirectly to many thousands of people. From even a relatively small sample of around 4000 users, which is how many this dataset contains, the scope of Facebook's potential connections is revealed. This data was only processed by way of anonymization. When the data was collected, any personably identifiable information was replaced by placeholder values. Essentially this is raw data that only has the users names or ID's removed. We did not alter this data set at all. We would expect those users with the highest number of friends to have the highest centrality values. This would be because with more friends comes more 'friends of friends' which would increase the centrality of that user. Essentially the more people you know, the more people you know. \n",
        "\n"
      ],
      "metadata": {
        "id": "80hAAEUO1Zjw"
      }
    },
    {
      "cell_type": "markdown",
      "source": [
        "##Problem 2: Write Python code for graph analysis\n",
        "Write the following functions in Python. You may assume that the input graph is unweighted,\n",
        "undirected, and simple – has no parallel edges and no loops. Functions provided by networkx can\n",
        "be used within your code, as long as the function does not perform the same task as what you\n",
        "are being asked to implement. For example, you cannot use networkx’s betweenness centrality\n",
        "function within your own betweenness centrality function, but you can use networkx’s functions for\n",
        "finding shortest paths. You may also assume that vertices are represented as integers (so the pair\n",
        "(1,3) indicates that there is an edge between vertex 1 and 3, for example)."
      ],
      "metadata": {
        "id": "0SMZUUCO25x6"
      }
    },
    {
      "cell_type": "markdown",
      "source": [
        "###Graph read-in"
      ],
      "metadata": {
        "id": "mvBebpGb3LI8"
      }
    },
    {
      "cell_type": "code",
      "source": [
        "import networkx as nx\n",
        "import numpy as np\n",
        "import matplotlib.pyplot as plt\n",
        "import math\n",
        "import random\n",
        "def readGraphIntoArray(filename):\n",
        "    array = np.loadtxt(filename, dtype=int)\n",
        "    print(array)\n",
        "    return array\n",
        "\n",
        "def getGraph(array):\n",
        "    G = nx.Graph()\n",
        "    G.add_edges_from(array)\n",
        "    #nx.draw(G)  # networkx draw()\n",
        "    #plt.draw()  # pyplot draw()\n",
        "    return G\n",
        "\n",
        "graphArray = readGraphIntoArray('facebook_combined.txt.gz')\n",
        "circles = getGraph(graphArray)\n",
        "typeList = graphArray.tolist()\n",
        "t = tuple(map(tuple, graphArray))\n",
        "print(type(graphArray))\n"
      ],
      "metadata": {
        "id": "ZfTWc8JC3Nwf",
        "colab": {
          "base_uri": "https://localhost:8080/"
        },
        "outputId": "f76d9deb-4657-49f7-c7e7-4005f90064fd"
      },
      "execution_count": 2,
      "outputs": [
        {
          "output_type": "stream",
          "name": "stdout",
          "text": [
            "[[   0    1]\n",
            " [   0    2]\n",
            " [   0    3]\n",
            " ...\n",
            " [4027 4032]\n",
            " [4027 4038]\n",
            " [4031 4038]]\n",
            "<class 'numpy.ndarray'>\n"
          ]
        }
      ]
    },
    {
      "cell_type": "markdown",
      "source": [
        "###1. (5 points) Number of vertices: A function that takes the following input: a list of edges representing a graph, where each edge is a pair. The output should be the number of vertices.\n"
      ],
      "metadata": {
        "id": "CW6ifgqF__8c"
      }
    },
    {
      "cell_type": "code",
      "source": [
        "##COMPLETE\n",
        "def getNumVertices(edgesArray):\n",
        "    number = edgesArray[-1, 1] + 1\n",
        "    return number\n"
      ],
      "metadata": {
        "id": "yJ8sznu_kpmC"
      },
      "execution_count": null,
      "outputs": []
    },
    {
      "cell_type": "markdown",
      "source": [
        "###2. (5 points) Degree of a vertex: A function that takes the following input: a list of edges representing a graph, where each edge is a pair, and a vertex index that is an integer. The output should be the degree of the input vertex."
      ],
      "metadata": {
        "id": "IkIVA3eaADyQ"
      }
    },
    {
      "cell_type": "code",
      "source": [
        "#COMPLETE\n",
        "def getVertexDegree(edgesArray, vertexIndex):\n",
        "    inDegree = 0\n",
        "    for i in edgesArray:\n",
        "      if vertexIndex in i:\n",
        "        inDegree += 1\n",
        "\n",
        "    return inDegree\n"
      ],
      "metadata": {
        "id": "RL9Pb7xx1Hsu"
      },
      "execution_count": null,
      "outputs": []
    },
    {
      "cell_type": "markdown",
      "source": [
        "###3. (5 points) Clustering coefficient of a vertex: A function that takes the following input: a list of edges representing a graph, where each edge is a pair, and a vertex index that is an integer. The output should be the clustering coefficient of the input vertex."
      ],
      "metadata": {
        "id": "Qh2tNye1AMLx"
      }
    },
    {
      "cell_type": "code",
      "source": [
        "##COMPLETE\n",
        "def getClusteringCoefficient(edgesArray, vertexIndex):\n",
        "  pairs = []\n",
        "  for edgeArray1, edgeArray2 in edgesArray:\n",
        "    if vertexIndex == edgeArray1:\n",
        "      pairs.append(edgeArray2)\n",
        "    if vertexIndex == edgeArray2:\n",
        "      pairs.append(edgeArray1)\n",
        "  if len(pairs) < 2:\n",
        "    return 0\n",
        "  else:\n",
        "    numEdges = 0\n",
        "    for edge in edgesArray:\n",
        "      if (edge[0] in pairs) and (edge[1] in pairs):\n",
        "        numEdges += 1\n",
        "    totalEdges = math.comb(len(pairs),2)\n",
        "    result = numEdges/totalEdges\n",
        "    return result\n"
      ],
      "metadata": {
        "id": "ywx_TpfR5epX"
      },
      "execution_count": 3,
      "outputs": []
    },
    {
      "cell_type": "markdown",
      "source": [
        "###4. (5 points) Betweenness centrality of a vertex: A function that takes the following input: a list of edges representing a graph, where each edge is a pair, and a vertex index that is an integer. The output should be the betweenness centrality of the input vertex."
      ],
      "metadata": {
        "id": "47kMLMTDASio"
      }
    },
    {
      "cell_type": "code",
      "source": [
        "def getBetweennessCentrality(edgesArray, vertexIndex):\n",
        "  k=None \n",
        "  normalized=True \n",
        "  weight=None\n",
        "  endpoints=False\n",
        "  seed=None\n",
        "  if k is None:\n",
        "      nodes = G\n",
        "  else:\n",
        "      random.seed(seed)\n",
        "      nodes = random.sample(G.nodes(), k)\n",
        "  for s in nodes:\n",
        "  \n",
        "      # single source shortest paths\n",
        "      if weight is None:  # use BFS\n",
        "          S, P, sigma = _single_source_shortest_path_basic(G, s)\n",
        "      else:  # use Dijkstra's algorithm\n",
        "          S, P, sigma = _single_source_dijkstra_path_basic(G, s, weight)\n",
        "  \n",
        "      # accumulation\n",
        "      if endpoints:\n",
        "          betweenness = _accumulate_endpoints(betweenness, S, P, sigma, s)\n",
        "      else:\n",
        "          betweenness = _accumulate_basic(betweenness, S, P, sigma, s)\n",
        "  \n",
        "  # rescaling\n",
        "  betweenness = _rescale(betweenness, len(G), normalized=normalized, directed=G.is_directed(), k=k)\n",
        "  return betweenness\n",
        "\n",
        "print(getBetweennessCentrality(graphArray, 20))\n",
        "\n"
      ],
      "metadata": {
        "id": "GNACZmwveWD7"
      },
      "execution_count": null,
      "outputs": []
    },
    {
      "cell_type": "markdown",
      "source": [
        "###5. (5 points) Adjacency matrix. A function that takes the following input: a list of edges representing a graph, where each edge is a pair. The output should be the dense adjacency matrix of the graph."
      ],
      "metadata": {
        "id": "Lx17XofqAXwe"
      }
    },
    {
      "cell_type": "code",
      "source": [
        "##COMPLETE\n",
        "from collections import defaultdict\n",
        "def createAdjacencyMatrix(edgesArray):\n",
        "    adjMatrix = defaultdict(set)\n",
        "    for x, y in edgesArray:\n",
        "        adjMatrix[x].add(y)\n",
        "        adjMatrix[y].add(x) \n",
        "    return adjMatrix\n"
      ],
      "metadata": {
        "id": "znrTBcJ-eWeA"
      },
      "execution_count": null,
      "outputs": []
    },
    {
      "cell_type": "markdown",
      "source": [
        "Our dataset is too long to effictively display the adjacency matrix in google collab but we have checked and verified that this matrix is correct using networkx."
      ],
      "metadata": {
        "id": "cglY3cKghgwG"
      }
    },
    {
      "cell_type": "markdown",
      "source": [
        "###6. (10 points) Prestige centrality of vertices: A function that takes the following input: a dense adjacency matrix representation of a graph. The output should be the prestige values for each vertex in the graph. (Note, you may NOT use linear algebra functions in numpy, spicy, or any other library to find eigenvectors but you MAY use linear algebra functions for transpose, matrix-vector multiplication, computing the dot product, the norm, and argmax.)\n"
      ],
      "metadata": {
        "id": "RNF4_Y45Ac6B"
      }
    },
    {
      "cell_type": "code",
      "source": [
        "adjMatrixfor6 = nx.adjacency_matrix(circles)\n",
        "\n",
        "def getPrestigeCentrality(adjMatrix):\n",
        "    allPrestige = np.empty(4039)\n",
        "    for row in adjMatrix:\n",
        "      allPrestige = np.append(allPrestige,1,axis=0)\n",
        "    for row in adjMatrix:\n",
        "      allPrestige = (adjMatrix * allPrestige)\n",
        "    return allPrestige\n",
        "\n",
        "print(getPrestigeCentrality(adjMatrixfor6))"
      ],
      "metadata": {
        "id": "1xRqt_bGeWyl",
        "colab": {
          "base_uri": "https://localhost:8080/",
          "height": 432
        },
        "outputId": "b856e4a7-5a93-4757-d795-91e2557367e3"
      },
      "execution_count": 4,
      "outputs": [
        {
          "output_type": "error",
          "ename": "ValueError",
          "evalue": "ignored",
          "traceback": [
            "\u001b[0;31m---------------------------------------------------------------------------\u001b[0m",
            "\u001b[0;31mValueError\u001b[0m                                Traceback (most recent call last)",
            "\u001b[0;32m<ipython-input-4-f342e67a6d60>\u001b[0m in \u001b[0;36m<module>\u001b[0;34m()\u001b[0m\n\u001b[1;32m      9\u001b[0m     \u001b[0;32mreturn\u001b[0m \u001b[0mallPrestige\u001b[0m\u001b[0;34m\u001b[0m\u001b[0;34m\u001b[0m\u001b[0m\n\u001b[1;32m     10\u001b[0m \u001b[0;34m\u001b[0m\u001b[0m\n\u001b[0;32m---> 11\u001b[0;31m \u001b[0mprint\u001b[0m\u001b[0;34m(\u001b[0m\u001b[0mgetPrestigeCentrality\u001b[0m\u001b[0;34m(\u001b[0m\u001b[0madjMatrixfor6\u001b[0m\u001b[0;34m)\u001b[0m\u001b[0;34m)\u001b[0m\u001b[0;34m\u001b[0m\u001b[0;34m\u001b[0m\u001b[0m\n\u001b[0m",
            "\u001b[0;32m<ipython-input-4-f342e67a6d60>\u001b[0m in \u001b[0;36mgetPrestigeCentrality\u001b[0;34m(adjMatrix)\u001b[0m\n\u001b[1;32m      4\u001b[0m     \u001b[0mallPrestige\u001b[0m \u001b[0;34m=\u001b[0m \u001b[0mnp\u001b[0m\u001b[0;34m.\u001b[0m\u001b[0mempty\u001b[0m\u001b[0;34m(\u001b[0m\u001b[0;36m4039\u001b[0m\u001b[0;34m)\u001b[0m\u001b[0;34m\u001b[0m\u001b[0;34m\u001b[0m\u001b[0m\n\u001b[1;32m      5\u001b[0m     \u001b[0;32mfor\u001b[0m \u001b[0mrow\u001b[0m \u001b[0;32min\u001b[0m \u001b[0madjMatrix\u001b[0m\u001b[0;34m:\u001b[0m\u001b[0;34m\u001b[0m\u001b[0;34m\u001b[0m\u001b[0m\n\u001b[0;32m----> 6\u001b[0;31m       \u001b[0mallPrestige\u001b[0m \u001b[0;34m=\u001b[0m \u001b[0mnp\u001b[0m\u001b[0;34m.\u001b[0m\u001b[0mappend\u001b[0m\u001b[0;34m(\u001b[0m\u001b[0mallPrestige\u001b[0m\u001b[0;34m,\u001b[0m\u001b[0;36m1\u001b[0m\u001b[0;34m,\u001b[0m\u001b[0maxis\u001b[0m\u001b[0;34m=\u001b[0m\u001b[0;36m0\u001b[0m\u001b[0;34m)\u001b[0m\u001b[0;34m\u001b[0m\u001b[0;34m\u001b[0m\u001b[0m\n\u001b[0m\u001b[1;32m      7\u001b[0m     \u001b[0;32mfor\u001b[0m \u001b[0mrow\u001b[0m \u001b[0;32min\u001b[0m \u001b[0madjMatrix\u001b[0m\u001b[0;34m:\u001b[0m\u001b[0;34m\u001b[0m\u001b[0;34m\u001b[0m\u001b[0m\n\u001b[1;32m      8\u001b[0m       \u001b[0mallPrestige\u001b[0m \u001b[0;34m=\u001b[0m \u001b[0;34m(\u001b[0m\u001b[0madjMatrix\u001b[0m \u001b[0;34m*\u001b[0m \u001b[0mallPrestige\u001b[0m\u001b[0;34m)\u001b[0m\u001b[0;34m\u001b[0m\u001b[0;34m\u001b[0m\u001b[0m\n",
            "\u001b[0;32m<__array_function__ internals>\u001b[0m in \u001b[0;36mappend\u001b[0;34m(*args, **kwargs)\u001b[0m\n",
            "\u001b[0;32m/usr/local/lib/python3.7/dist-packages/numpy/lib/function_base.py\u001b[0m in \u001b[0;36mappend\u001b[0;34m(arr, values, axis)\u001b[0m\n\u001b[1;32m   4815\u001b[0m         \u001b[0mvalues\u001b[0m \u001b[0;34m=\u001b[0m \u001b[0mravel\u001b[0m\u001b[0;34m(\u001b[0m\u001b[0mvalues\u001b[0m\u001b[0;34m)\u001b[0m\u001b[0;34m\u001b[0m\u001b[0;34m\u001b[0m\u001b[0m\n\u001b[1;32m   4816\u001b[0m         \u001b[0maxis\u001b[0m \u001b[0;34m=\u001b[0m \u001b[0marr\u001b[0m\u001b[0;34m.\u001b[0m\u001b[0mndim\u001b[0m\u001b[0;34m-\u001b[0m\u001b[0;36m1\u001b[0m\u001b[0;34m\u001b[0m\u001b[0;34m\u001b[0m\u001b[0m\n\u001b[0;32m-> 4817\u001b[0;31m     \u001b[0;32mreturn\u001b[0m \u001b[0mconcatenate\u001b[0m\u001b[0;34m(\u001b[0m\u001b[0;34m(\u001b[0m\u001b[0marr\u001b[0m\u001b[0;34m,\u001b[0m \u001b[0mvalues\u001b[0m\u001b[0;34m)\u001b[0m\u001b[0;34m,\u001b[0m \u001b[0maxis\u001b[0m\u001b[0;34m=\u001b[0m\u001b[0maxis\u001b[0m\u001b[0;34m)\u001b[0m\u001b[0;34m\u001b[0m\u001b[0;34m\u001b[0m\u001b[0m\n\u001b[0m\u001b[1;32m   4818\u001b[0m \u001b[0;34m\u001b[0m\u001b[0m\n\u001b[1;32m   4819\u001b[0m \u001b[0;34m\u001b[0m\u001b[0m\n",
            "\u001b[0;32m<__array_function__ internals>\u001b[0m in \u001b[0;36mconcatenate\u001b[0;34m(*args, **kwargs)\u001b[0m\n",
            "\u001b[0;31mValueError\u001b[0m: all the input arrays must have same number of dimensions, but the array at index 0 has 1 dimension(s) and the array at index 1 has 0 dimension(s)"
          ]
        }
      ]
    },
    {
      "cell_type": "markdown",
      "source": [
        "##Problem 3: Analyze the graph data\n",
        "Using tables or figures as appropriate, report the following. You may treat the graph as a simple\n",
        "undirected, unweighted graph. You may use networkx functions in all of Part 3, but you are\n",
        "encouraged to test out your functions from Part 2 on real-world data."
      ],
      "metadata": {
        "id": "zejAMIqI2_Tm"
      }
    },
    {
      "cell_type": "markdown",
      "source": [
        "###1. (5 points) Produce a visualization of the graph (or graph sample that you used)"
      ],
      "metadata": {
        "id": "Me2XqfW4-oea"
      }
    },
    {
      "cell_type": "code",
      "source": [
        "nx.draw(circles)\n",
        "plt.draw()"
      ],
      "metadata": {
        "colab": {
          "base_uri": "https://localhost:8080/",
          "height": 319
        },
        "id": "_ABbtbKBzxQo",
        "outputId": "a8cfe203-efd9-4e7f-9e9e-c653aadbc791"
      },
      "execution_count": null,
      "outputs": [
        {
          "output_type": "display_data",
          "data": {
            "text/plain": [
              "<Figure size 432x288 with 1 Axes>"
            ],
            "image/png": "[encoded data removed]"
          },
          "metadata": {}
        }
      ]
    },
    {
      "cell_type": "markdown",
      "source": [
        "###2. (3 points) Find the 10 nodes with the highest degree."
      ],
      "metadata": {
        "id": "Ci8C8F02-80v"
      }
    },
    {
      "cell_type": "code",
      "source": [
        "highestDegrees = sorted(circles.degree, key=lambda x: x[1], reverse=True)\n",
        "print(\"10 highest degree nodes in format (node, degree)\")\n",
        "for i in range(10): \n",
        "  print(highestDegrees[i])\n"
      ],
      "metadata": {
        "colab": {
          "base_uri": "https://localhost:8080/"
        },
        "id": "ImJANKiP5nCU",
        "outputId": "729ddad0-4c75-4ccb-8f1d-a856c811d8fe"
      },
      "execution_count": null,
      "outputs": [
        {
          "output_type": "stream",
          "name": "stdout",
          "text": [
            "10 highest degree nodes in format (node, degree)\n",
            "(107, 1045)\n",
            "(1684, 792)\n",
            "(1912, 755)\n",
            "(3437, 547)\n",
            "(0, 347)\n",
            "(2543, 294)\n",
            "(2347, 291)\n",
            "(1888, 254)\n",
            "(1800, 245)\n",
            "(1663, 235)\n"
          ]
        }
      ]
    },
    {
      "cell_type": "markdown",
      "source": [
        "###3. (3 points) Find the 10 nodes with the highest betweenness centrality"
      ],
      "metadata": {
        "id": "p4ud5tx-_RJ3"
      }
    },
    {
      "cell_type": "code",
      "source": [
        "from collections import Counter\n",
        "##TAKES A WHILE TO RUN\n",
        "highestBetCent = nx.betweenness_centrality(circles)\n",
        "c = Counter(highestBetCent)\n",
        "print(\"Top 10 nodes with highest betweeness centrality in format (node, betweenessCentrality)\")\n",
        "c.most_common(10)"
      ],
      "metadata": {
        "colab": {
          "base_uri": "https://localhost:8080/",
          "height": 380
        },
        "id": "CFlyjdE8PZU0",
        "outputId": "173a31f0-8377-4441-be30-455f00e692a2"
      },
      "execution_count": null,
      "outputs": [
        {
          "output_type": "error",
          "ename": "KeyboardInterrupt",
          "evalue": "ignored",
          "traceback": [
            "\u001b[0;31m---------------------------------------------------------------------------\u001b[0m",
            "\u001b[0;31mKeyboardInterrupt\u001b[0m                         Traceback (most recent call last)",
            "\u001b[0;32m<ipython-input-26-e1ec3419da40>\u001b[0m in \u001b[0;36m<module>\u001b[0;34m()\u001b[0m\n\u001b[1;32m      1\u001b[0m \u001b[0;32mfrom\u001b[0m \u001b[0mcollections\u001b[0m \u001b[0;32mimport\u001b[0m \u001b[0mCounter\u001b[0m\u001b[0;34m\u001b[0m\u001b[0;34m\u001b[0m\u001b[0m\n\u001b[1;32m      2\u001b[0m \u001b[0;31m##TAKES A WHILE TO RUN\u001b[0m\u001b[0;34m\u001b[0m\u001b[0;34m\u001b[0m\u001b[0;34m\u001b[0m\u001b[0m\n\u001b[0;32m----> 3\u001b[0;31m \u001b[0mhighestBetCent\u001b[0m \u001b[0;34m=\u001b[0m \u001b[0mnx\u001b[0m\u001b[0;34m.\u001b[0m\u001b[0mbetweenness_centrality\u001b[0m\u001b[0;34m(\u001b[0m\u001b[0mcircles\u001b[0m\u001b[0;34m)\u001b[0m\u001b[0;34m\u001b[0m\u001b[0;34m\u001b[0m\u001b[0m\n\u001b[0m\u001b[1;32m      4\u001b[0m \u001b[0mc\u001b[0m \u001b[0;34m=\u001b[0m \u001b[0mCounter\u001b[0m\u001b[0;34m(\u001b[0m\u001b[0mhighestBetCent\u001b[0m\u001b[0;34m)\u001b[0m\u001b[0;34m\u001b[0m\u001b[0;34m\u001b[0m\u001b[0m\n\u001b[1;32m      5\u001b[0m \u001b[0mprint\u001b[0m\u001b[0;34m(\u001b[0m\u001b[0;34m\"Top 10 nodes with highest betweeness centrality in format (node, betweenessCentrality)\"\u001b[0m\u001b[0;34m)\u001b[0m\u001b[0;34m\u001b[0m\u001b[0;34m\u001b[0m\u001b[0m\n",
            "\u001b[0;32m/usr/local/lib/python3.7/dist-packages/networkx/utils/decorators.py\u001b[0m in \u001b[0;36margmap_betweenness_centrality_1\u001b[0;34m(G, k, normalized, weight, endpoints, seed)\u001b[0m\n\u001b[1;32m      3\u001b[0m \u001b[0;32mfrom\u001b[0m \u001b[0mcontextlib\u001b[0m \u001b[0;32mimport\u001b[0m \u001b[0mcontextmanager\u001b[0m\u001b[0;34m\u001b[0m\u001b[0;34m\u001b[0m\u001b[0m\n\u001b[1;32m      4\u001b[0m \u001b[0;32mfrom\u001b[0m \u001b[0mpathlib\u001b[0m \u001b[0;32mimport\u001b[0m \u001b[0mPath\u001b[0m\u001b[0;34m\u001b[0m\u001b[0;34m\u001b[0m\u001b[0m\n\u001b[0;32m----> 5\u001b[0;31m \u001b[0;32mimport\u001b[0m \u001b[0mwarnings\u001b[0m\u001b[0;34m\u001b[0m\u001b[0;34m\u001b[0m\u001b[0m\n\u001b[0m\u001b[1;32m      6\u001b[0m \u001b[0;34m\u001b[0m\u001b[0m\n\u001b[1;32m      7\u001b[0m \u001b[0;32mimport\u001b[0m \u001b[0mnetworkx\u001b[0m \u001b[0;32mas\u001b[0m \u001b[0mnx\u001b[0m\u001b[0;34m\u001b[0m\u001b[0;34m\u001b[0m\u001b[0m\n",
            "\u001b[0;32m/usr/local/lib/python3.7/dist-packages/networkx/algorithms/centrality/betweenness.py\u001b[0m in \u001b[0;36mbetweenness_centrality\u001b[0;34m(G, k, normalized, weight, endpoints, seed)\u001b[0m\n\u001b[1;32m    127\u001b[0m         \u001b[0;31m# single source shortest paths\u001b[0m\u001b[0;34m\u001b[0m\u001b[0;34m\u001b[0m\u001b[0;34m\u001b[0m\u001b[0m\n\u001b[1;32m    128\u001b[0m         \u001b[0;32mif\u001b[0m \u001b[0mweight\u001b[0m \u001b[0;32mis\u001b[0m \u001b[0;32mNone\u001b[0m\u001b[0;34m:\u001b[0m  \u001b[0;31m# use BFS\u001b[0m\u001b[0;34m\u001b[0m\u001b[0;34m\u001b[0m\u001b[0m\n\u001b[0;32m--> 129\u001b[0;31m             \u001b[0mS\u001b[0m\u001b[0;34m,\u001b[0m \u001b[0mP\u001b[0m\u001b[0;34m,\u001b[0m \u001b[0msigma\u001b[0m\u001b[0;34m,\u001b[0m \u001b[0m_\u001b[0m \u001b[0;34m=\u001b[0m \u001b[0m_single_source_shortest_path_basic\u001b[0m\u001b[0;34m(\u001b[0m\u001b[0mG\u001b[0m\u001b[0;34m,\u001b[0m \u001b[0ms\u001b[0m\u001b[0;34m)\u001b[0m\u001b[0;34m\u001b[0m\u001b[0;34m\u001b[0m\u001b[0m\n\u001b[0m\u001b[1;32m    130\u001b[0m         \u001b[0;32melse\u001b[0m\u001b[0;34m:\u001b[0m  \u001b[0;31m# use Dijkstra's algorithm\u001b[0m\u001b[0;34m\u001b[0m\u001b[0;34m\u001b[0m\u001b[0m\n\u001b[1;32m    131\u001b[0m             \u001b[0mS\u001b[0m\u001b[0;34m,\u001b[0m \u001b[0mP\u001b[0m\u001b[0;34m,\u001b[0m \u001b[0msigma\u001b[0m\u001b[0;34m,\u001b[0m \u001b[0m_\u001b[0m \u001b[0;34m=\u001b[0m \u001b[0m_single_source_dijkstra_path_basic\u001b[0m\u001b[0;34m(\u001b[0m\u001b[0mG\u001b[0m\u001b[0;34m,\u001b[0m \u001b[0ms\u001b[0m\u001b[0;34m,\u001b[0m \u001b[0mweight\u001b[0m\u001b[0;34m)\u001b[0m\u001b[0;34m\u001b[0m\u001b[0;34m\u001b[0m\u001b[0m\n",
            "\u001b[0;32m/usr/local/lib/python3.7/dist-packages/networkx/algorithms/centrality/betweenness.py\u001b[0m in \u001b[0;36m_single_source_shortest_path_basic\u001b[0;34m(G, s)\u001b[0m\n\u001b[1;32m    267\u001b[0m         \u001b[0msigmav\u001b[0m \u001b[0;34m=\u001b[0m \u001b[0msigma\u001b[0m\u001b[0;34m[\u001b[0m\u001b[0mv\u001b[0m\u001b[0;34m]\u001b[0m\u001b[0;34m\u001b[0m\u001b[0;34m\u001b[0m\u001b[0m\n\u001b[1;32m    268\u001b[0m         \u001b[0;32mfor\u001b[0m \u001b[0mw\u001b[0m \u001b[0;32min\u001b[0m \u001b[0mG\u001b[0m\u001b[0;34m[\u001b[0m\u001b[0mv\u001b[0m\u001b[0;34m]\u001b[0m\u001b[0;34m:\u001b[0m\u001b[0;34m\u001b[0m\u001b[0;34m\u001b[0m\u001b[0m\n\u001b[0;32m--> 269\u001b[0;31m             \u001b[0;32mif\u001b[0m \u001b[0mw\u001b[0m \u001b[0;32mnot\u001b[0m \u001b[0;32min\u001b[0m \u001b[0mD\u001b[0m\u001b[0;34m:\u001b[0m\u001b[0;34m\u001b[0m\u001b[0;34m\u001b[0m\u001b[0m\n\u001b[0m\u001b[1;32m    270\u001b[0m                 \u001b[0mQ\u001b[0m\u001b[0;34m.\u001b[0m\u001b[0mappend\u001b[0m\u001b[0;34m(\u001b[0m\u001b[0mw\u001b[0m\u001b[0;34m)\u001b[0m\u001b[0;34m\u001b[0m\u001b[0;34m\u001b[0m\u001b[0m\n\u001b[1;32m    271\u001b[0m                 \u001b[0mD\u001b[0m\u001b[0;34m[\u001b[0m\u001b[0mw\u001b[0m\u001b[0;34m]\u001b[0m \u001b[0;34m=\u001b[0m \u001b[0mDv\u001b[0m \u001b[0;34m+\u001b[0m \u001b[0;36m1\u001b[0m\u001b[0;34m\u001b[0m\u001b[0;34m\u001b[0m\u001b[0m\n",
            "\u001b[0;31mKeyboardInterrupt\u001b[0m: "
          ]
        }
      ]
    },
    {
      "cell_type": "markdown",
      "source": [
        "###4. (3 points) Find the 10 nodes with the highest clustering coefficient. If there are ties, choose 10 to report and explain how the 10 were chosen.\n"
      ],
      "metadata": {
        "id": "AFB90TU1_RZ_"
      }
    },
    {
      "cell_type": "code",
      "source": [
        "highestClustCoef = nx.clustering(circles)\n",
        "c = Counter(highestClustCoef)\n",
        "print(\"Top 10 nodes with highest clustering coefficient in format (node, clusteringCoefficient)\")\n",
        "c.most_common(10)"
      ],
      "metadata": {
        "colab": {
          "base_uri": "https://localhost:8080/"
        },
        "id": "EN9F25j8-1YS",
        "outputId": "db1e42d2-a4e0-434a-c0d0-80f73139560a"
      },
      "execution_count": null,
      "outputs": [
        {
          "output_type": "stream",
          "name": "stdout",
          "text": [
            "Top 10 nodes with highest clustering coefficient in format (node, clusteringCoefficient)\n"
          ]
        },
        {
          "output_type": "execute_result",
          "data": {
            "text/plain": [
              "[(32, 1.0),\n",
              " (33, 1.0),\n",
              " (35, 1.0),\n",
              " (42, 1.0),\n",
              " (44, 1.0),\n",
              " (46, 1.0),\n",
              " (47, 1.0),\n",
              " (52, 1.0),\n",
              " (63, 1.0),\n",
              " (70, 1.0)]"
            ]
          },
          "metadata": {},
          "execution_count": 25
        }
      ]
    },
    {
      "cell_type": "markdown",
      "source": [
        "The top 10 were chosen based on the lowest node number."
      ],
      "metadata": {
        "id": "743bzcIpSOp-"
      }
    },
    {
      "cell_type": "markdown",
      "source": [
        "###5. (3 points) Find the top 10 nodes as ranked by prestige centrality (eigenvector centrality in networkx)."
      ],
      "metadata": {
        "id": "q0NPKIqO_Rjf"
      }
    },
    {
      "cell_type": "code",
      "source": [
        "highestPrestigeCentrality = nx.eigenvector_centrality(circles)\n",
        "c = Counter(highestPrestigeCentrality)\n",
        "print(\"Top 10 nodes with highest prestige centrality in format (node, prestigeCentrality)\")\n",
        "c.most_common(10)"
      ],
      "metadata": {
        "colab": {
          "base_uri": "https://localhost:8080/"
        },
        "id": "YTRf5l2tQ3rn",
        "outputId": "3df5f279-197c-43a5-9b80-02a6e7544406"
      },
      "execution_count": null,
      "outputs": [
        {
          "output_type": "stream",
          "name": "stdout",
          "text": [
            "Top 10 nodes with highest prestige centrality in format (node, prestigeCentrality)\n"
          ]
        },
        {
          "output_type": "execute_result",
          "data": {
            "text/plain": [
              "[(1912, 0.09540696149067629),\n",
              " (2266, 0.08698327767886553),\n",
              " (2206, 0.08605239270584343),\n",
              " (2233, 0.08517340912756598),\n",
              " (2464, 0.08427877475676092),\n",
              " (2142, 0.08419311897991796),\n",
              " (2218, 0.08415573568055032),\n",
              " (2078, 0.08413617041724979),\n",
              " (2123, 0.08367141238206226),\n",
              " (1993, 0.0835324284081597)]"
            ]
          },
          "metadata": {},
          "execution_count": 28
        }
      ]
    },
    {
      "cell_type": "markdown",
      "source": [
        "###6. (3 points) Find the top 10 nodes as ranked by Pagerank."
      ],
      "metadata": {
        "id": "kkTDHIde_Rvw"
      }
    },
    {
      "cell_type": "code",
      "source": [
        "highestPagerank = nx.pagerank(circles)\n",
        "c = Counter(highestPagerank)\n",
        "print(\"Top 10 nodes with highest pagerank in format (node, pagerank)\")\n",
        "c.most_common(10)"
      ],
      "metadata": {
        "colab": {
          "base_uri": "https://localhost:8080/"
        },
        "id": "_f7b_lT_Rr13",
        "outputId": "16664e80-4db3-4ae6-dbf0-0641064b78f8"
      },
      "execution_count": null,
      "outputs": [
        {
          "output_type": "stream",
          "name": "stdout",
          "text": [
            "Top 10 nodes with highest pagerank in format (node, pagerank)\n"
          ]
        },
        {
          "output_type": "execute_result",
          "data": {
            "text/plain": [
              "[(3437, 0.0076145868447496),\n",
              " (107, 0.006936420955866117),\n",
              " (1684, 0.006367162138306824),\n",
              " (0, 0.006289602618466542),\n",
              " (1912, 0.003876971600884498),\n",
              " (348, 0.002348096972780577),\n",
              " (686, 0.002219359259800019),\n",
              " (3980, 0.0021703235790099928),\n",
              " (414, 0.001800299047070226),\n",
              " (698, 0.0013171153138368812)]"
            ]
          },
          "metadata": {},
          "execution_count": 29
        }
      ]
    },
    {
      "cell_type": "markdown",
      "source": [
        "### 7. (3 points) Comment on the differences and similarities in questions Part 3 1-6. Are the highly ranked nodes mostly the same? Do you notice significant differences in the rankings? Why do you think this is the case?"
      ],
      "metadata": {
        "id": "LmHP_4Fs_NVv"
      }
    },
    {
      "cell_type": "markdown",
      "source": [
        "Some metrics have nodes that are close together and some do not. For example, many of the nodes with the highest prestige centrality are relatively close together (ie; 2206,2123,2233). Also some are seemingly completely unrelated such as the pagerank of the nodes (ie; 3437, 107, 1684, 414). This is most likely the case because if you look at our graph in Part 3 1, you can see that there are many different clusters that are close together. Some of these are larger are arranged in different shapes and this causes the differences in the node metrics.  "
      ],
      "metadata": {
        "id": "c9w1PbjedUGV"
      }
    }
  ]
}