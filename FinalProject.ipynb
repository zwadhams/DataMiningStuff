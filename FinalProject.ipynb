{
  "nbformat": 4,
  "nbformat_minor": 0,
  "metadata": {
    "colab": {
      "name": "FinalProject.ipynb",
      "provenance": [],
      "collapsed_sections": [],
      "include_colab_link": true
    },
    "kernelspec": {
      "name": "python3",
      "display_name": "Python 3"
    },
    "language_info": {
      "name": "python"
    }
  },
  "cells": [
    {
      "cell_type": "markdown",
      "metadata": {
        "id": "view-in-github",
        "colab_type": "text"
      },
      "source": [
        "<a href=\"https://colab.research.google.com/github/zwadhams/DataMiningStuff/blob/main/FinalProject.ipynb\" target=\"_parent\"><img src=\"https://colab.research.google.com/assets/colab-badge.svg\" alt=\"Open In Colab\"/></a>"
      ]
    },
    {
      "cell_type": "markdown",
      "source": [
        "Group Members: Zach Wadhams, Kruize Christensen, Lauren Helbling\n",
        "\n",
        "Data Set Used: https://www.kaggle.com/datasets/leonardopena/top50spotify2019"
      ],
      "metadata": {
        "id": "cFhi4gTCrRES"
      }
    },
    {
      "cell_type": "markdown",
      "source": [
        "# Problem 4.1\n",
        "\n",
        "##Summary / Plan\n",
        "\n",
        "For our final project, we were curious what makes a song popular on Spotify. We selected the Top 50 Spotify Songs for 2019 dataset from Kaggle. This data set consists of 50 songs, each with 13 variables. The categorical variables are song name, artist name, and genre. The quantitative variables are beats per minute, energy, danceability, loudness, liveness, valence, length, acousticness, speechiness, and popularity. Some of the data mining techniques we plan on using include:\n",
        "\n",
        "Correlation: A primary focus of this problem is analyzing the correlation between popularity and all of the variables in the data set. Also, we could explore the correlation between variables, such as loudness and energy.\n",
        "Label-encoding: The genre variable could be label encoded in order to better analyze it.\n",
        "\n",
        "Label-encoding: The genre variable could be label encoded in order to better analyze it.\n",
        "Dimension Reduction & PCA: The 10 quantitative variables could be reduced, while maintaining meaning, in order to visualize the data.\n",
        "\n",
        "Dimension Reduction & PCA: The 10 quantitative variables could be reduced, while maintaining meaning, in order to visualize the data.\n",
        "Clustering: This would determine what particular song would be grouped together in each category. This could be using K-means or using other techniques from the course.\n",
        "\n",
        "Data Visualization: Creating informative plots and graphs to help a broad audience to understand the data\n",
        "\n",
        "If we run out of time, clustering techniques would be the most likely one we would have to work on for another day. Another idea that we could pursue if given the time is developing a Spotify popularity prediction algorithm with the current data.\n",
        "\n"
      ],
      "metadata": {
        "id": "wb91Cn-UriLS"
      }
    },
    {
      "cell_type": "markdown",
      "source": [
        "#Problem 4.2\n",
        "\n",
        "#Implementation\n",
        "\n"
      ],
      "metadata": {
        "id": "wlpE-vIpjM4o"
      }
    },
    {
      "cell_type": "markdown",
      "source": [
        "Reading In Data:"
      ],
      "metadata": {
        "id": "o5KAgMQUPRde"
      }
    },
    {
      "cell_type": "code",
      "source": [
        "import matplotlib.pyplot as plt\n",
        "import numpy as np\n",
        "import pandas as pd \n",
        "import seaborn as sns\n",
        "import warnings\n",
        "import os\n",
        "\n",
        "filename='top50.csv'\n",
        "spoti=pd.read_csv(filename,encoding='ISO-8859-1') \n",
        "spoti.head()"
      ],
      "metadata": {
        "id": "E3F_ENxyjUYl",
        "colab": {
          "base_uri": "https://localhost:8080/",
          "height": 426
        },
        "outputId": "142b9a64-8ca6-4a7f-ba39-c00c8427ad7a"
      },
      "execution_count": null,
      "outputs": [
        {
          "output_type": "execute_result",
          "data": {
            "text/plain": [
              "   Unnamed: 0                       Track.Name    Artist.Name           Genre  \\\n",
              "0           1                         Señorita   Shawn Mendes    canadian pop   \n",
              "1           2                            China       Anuel AA  reggaeton flow   \n",
              "2           3    boyfriend (with Social House)  Ariana Grande       dance pop   \n",
              "3           4  Beautiful People (feat. Khalid)     Ed Sheeran             pop   \n",
              "4           5      Goodbyes (Feat. Young Thug)    Post Malone         dfw rap   \n",
              "\n",
              "   Beats.Per.Minute  Energy  Danceability  Loudness..dB..  Liveness  Valence.  \\\n",
              "0               117      55            76              -6         8        75   \n",
              "1               105      81            79              -4         8        61   \n",
              "2               190      80            40              -4        16        70   \n",
              "3                93      65            64              -8         8        55   \n",
              "4               150      65            58              -4        11        18   \n",
              "\n",
              "   Length.  Acousticness..  Speechiness.  Popularity  \n",
              "0      191               4             3          79  \n",
              "1      302               8             9          92  \n",
              "2      186              12            46          85  \n",
              "3      198              12            19          86  \n",
              "4      175              45             7          94  "
            ],
            "text/html": [
              "\n",
              "  <div id=\"df-3a53d523-595b-4e9c-87d2-c733cbda297d\">\n",
              "    <div class=\"colab-df-container\">\n",
              "      <div>\n",
              "<style scoped>\n",
              "    .dataframe tbody tr th:only-of-type {\n",
              "        vertical-align: middle;\n",
              "    }\n",
              "\n",
              "    .dataframe tbody tr th {\n",
              "        vertical-align: top;\n",
              "    }\n",
              "\n",
              "    .dataframe thead th {\n",
              "        text-align: right;\n",
              "    }\n",
              "</style>\n",
              "<table border=\"1\" class=\"dataframe\">\n",
              "  <thead>\n",
              "    <tr style=\"text-align: right;\">\n",
              "      <th></th>\n",
              "      <th>Unnamed: 0</th>\n",
              "      <th>Track.Name</th>\n",
              "      <th>Artist.Name</th>\n",
              "      <th>Genre</th>\n",
              "      <th>Beats.Per.Minute</th>\n",
              "      <th>Energy</th>\n",
              "      <th>Danceability</th>\n",
              "      <th>Loudness..dB..</th>\n",
              "      <th>Liveness</th>\n",
              "      <th>Valence.</th>\n",
              "      <th>Length.</th>\n",
              "      <th>Acousticness..</th>\n",
              "      <th>Speechiness.</th>\n",
              "      <th>Popularity</th>\n",
              "    </tr>\n",
              "  </thead>\n",
              "  <tbody>\n",
              "    <tr>\n",
              "      <th>0</th>\n",
              "      <td>1</td>\n",
              "      <td>Señorita</td>\n",
              "      <td>Shawn Mendes</td>\n",
              "      <td>canadian pop</td>\n",
              "      <td>117</td>\n",
              "      <td>55</td>\n",
              "      <td>76</td>\n",
              "      <td>-6</td>\n",
              "      <td>8</td>\n",
              "      <td>75</td>\n",
              "      <td>191</td>\n",
              "      <td>4</td>\n",
              "      <td>3</td>\n",
              "      <td>79</td>\n",
              "    </tr>\n",
              "    <tr>\n",
              "      <th>1</th>\n",
              "      <td>2</td>\n",
              "      <td>China</td>\n",
              "      <td>Anuel AA</td>\n",
              "      <td>reggaeton flow</td>\n",
              "      <td>105</td>\n",
              "      <td>81</td>\n",
              "      <td>79</td>\n",
              "      <td>-4</td>\n",
              "      <td>8</td>\n",
              "      <td>61</td>\n",
              "      <td>302</td>\n",
              "      <td>8</td>\n",
              "      <td>9</td>\n",
              "      <td>92</td>\n",
              "    </tr>\n",
              "    <tr>\n",
              "      <th>2</th>\n",
              "      <td>3</td>\n",
              "      <td>boyfriend (with Social House)</td>\n",
              "      <td>Ariana Grande</td>\n",
              "      <td>dance pop</td>\n",
              "      <td>190</td>\n",
              "      <td>80</td>\n",
              "      <td>40</td>\n",
              "      <td>-4</td>\n",
              "      <td>16</td>\n",
              "      <td>70</td>\n",
              "      <td>186</td>\n",
              "      <td>12</td>\n",
              "      <td>46</td>\n",
              "      <td>85</td>\n",
              "    </tr>\n",
              "    <tr>\n",
              "      <th>3</th>\n",
              "      <td>4</td>\n",
              "      <td>Beautiful People (feat. Khalid)</td>\n",
              "      <td>Ed Sheeran</td>\n",
              "      <td>pop</td>\n",
              "      <td>93</td>\n",
              "      <td>65</td>\n",
              "      <td>64</td>\n",
              "      <td>-8</td>\n",
              "      <td>8</td>\n",
              "      <td>55</td>\n",
              "      <td>198</td>\n",
              "      <td>12</td>\n",
              "      <td>19</td>\n",
              "      <td>86</td>\n",
              "    </tr>\n",
              "    <tr>\n",
              "      <th>4</th>\n",
              "      <td>5</td>\n",
              "      <td>Goodbyes (Feat. Young Thug)</td>\n",
              "      <td>Post Malone</td>\n",
              "      <td>dfw rap</td>\n",
              "      <td>150</td>\n",
              "      <td>65</td>\n",
              "      <td>58</td>\n",
              "      <td>-4</td>\n",
              "      <td>11</td>\n",
              "      <td>18</td>\n",
              "      <td>175</td>\n",
              "      <td>45</td>\n",
              "      <td>7</td>\n",
              "      <td>94</td>\n",
              "    </tr>\n",
              "  </tbody>\n",
              "</table>\n",
              "</div>\n",
              "      <button class=\"colab-df-convert\" onclick=\"convertToInteractive('df-3a53d523-595b-4e9c-87d2-c733cbda297d')\"\n",
              "              title=\"Convert this dataframe to an interactive table.\"\n",
              "              style=\"display:none;\">\n",
              "        \n",
              "  <svg xmlns=\"http://www.w3.org/2000/svg\" height=\"24px\"viewBox=\"0 0 24 24\"\n",
              "       width=\"24px\">\n",
              "    <path d=\"M0 0h24v24H0V0z\" fill=\"none\"/>\n",
              "    <path d=\"M18.56 5.44l.94 2.06.94-2.06 2.06-.94-2.06-.94-.94-2.06-.94 2.06-2.06.94zm-11 1L8.5 8.5l.94-2.06 2.06-.94-2.06-.94L8.5 2.5l-.94 2.06-2.06.94zm10 10l.94 2.06.94-2.06 2.06-.94-2.06-.94-.94-2.06-.94 2.06-2.06.94z\"/><path d=\"M17.41 7.96l-1.37-1.37c-.4-.4-.92-.59-1.43-.59-.52 0-1.04.2-1.43.59L10.3 9.45l-7.72 7.72c-.78.78-.78 2.05 0 2.83L4 21.41c.39.39.9.59 1.41.59.51 0 1.02-.2 1.41-.59l7.78-7.78 2.81-2.81c.8-.78.8-2.07 0-2.86zM5.41 20L4 18.59l7.72-7.72 1.47 1.35L5.41 20z\"/>\n",
              "  </svg>\n",
              "      </button>\n",
              "      \n",
              "  <style>\n",
              "    .colab-df-container {\n",
              "      display:flex;\n",
              "      flex-wrap:wrap;\n",
              "      gap: 12px;\n",
              "    }\n",
              "\n",
              "    .colab-df-convert {\n",
              "      background-color: #E8F0FE;\n",
              "      border: none;\n",
              "      border-radius: 50%;\n",
              "      cursor: pointer;\n",
              "      display: none;\n",
              "      fill: #1967D2;\n",
              "      height: 32px;\n",
              "      padding: 0 0 0 0;\n",
              "      width: 32px;\n",
              "    }\n",
              "\n",
              "    .colab-df-convert:hover {\n",
              "      background-color: #E2EBFA;\n",
              "      box-shadow: 0px 1px 2px rgba(60, 64, 67, 0.3), 0px 1px 3px 1px rgba(60, 64, 67, 0.15);\n",
              "      fill: #174EA6;\n",
              "    }\n",
              "\n",
              "    [theme=dark] .colab-df-convert {\n",
              "      background-color: #3B4455;\n",
              "      fill: #D2E3FC;\n",
              "    }\n",
              "\n",
              "    [theme=dark] .colab-df-convert:hover {\n",
              "      background-color: #434B5C;\n",
              "      box-shadow: 0px 1px 3px 1px rgba(0, 0, 0, 0.15);\n",
              "      filter: drop-shadow(0px 1px 2px rgba(0, 0, 0, 0.3));\n",
              "      fill: #FFFFFF;\n",
              "    }\n",
              "  </style>\n",
              "\n",
              "      <script>\n",
              "        const buttonEl =\n",
              "          document.querySelector('#df-3a53d523-595b-4e9c-87d2-c733cbda297d button.colab-df-convert');\n",
              "        buttonEl.style.display =\n",
              "          google.colab.kernel.accessAllowed ? 'block' : 'none';\n",
              "\n",
              "        async function convertToInteractive(key) {\n",
              "          const element = document.querySelector('#df-3a53d523-595b-4e9c-87d2-c733cbda297d');\n",
              "          const dataTable =\n",
              "            await google.colab.kernel.invokeFunction('convertToInteractive',\n",
              "                                                     [key], {});\n",
              "          if (!dataTable) return;\n",
              "\n",
              "          const docLinkHtml = 'Like what you see? Visit the ' +\n",
              "            '<a target=\"_blank\" href=https://colab.research.google.com/notebooks/data_table.ipynb>data table notebook</a>'\n",
              "            + ' to learn more about interactive tables.';\n",
              "          element.innerHTML = '';\n",
              "          dataTable['output_type'] = 'display_data';\n",
              "          await google.colab.output.renderOutput(dataTable, element);\n",
              "          const docLink = document.createElement('div');\n",
              "          docLink.innerHTML = docLinkHtml;\n",
              "          element.appendChild(docLink);\n",
              "        }\n",
              "      </script>\n",
              "    </div>\n",
              "  </div>\n",
              "  "
            ]
          },
          "metadata": {},
          "execution_count": 2
        }
      ]
    },
    {
      "cell_type": "markdown",
      "source": [
        "##PRE-PROCESSING\n",
        "\n"
      ],
      "metadata": {
        "id": "owsEE0rIPV5R"
      }
    },
    {
      "cell_type": "markdown",
      "source": [
        "Drop uninformative column and forward fill NA values"
      ],
      "metadata": {
        "id": "Ej0-n8HKIoQ8"
      }
    },
    {
      "cell_type": "code",
      "source": [
        "spoti = spoti.drop(columns = ['Unnamed: 0'])\n",
        "spoti.isnull().sum()\n",
        "spoti.fillna(method=\"ffill\")\n",
        "spoti.head()"
      ],
      "metadata": {
        "colab": {
          "base_uri": "https://localhost:8080/",
          "height": 409
        },
        "id": "oNicDI5Y9vCM",
        "outputId": "7a58b4b4-d7de-4919-ed85-6718ffdad28e"
      },
      "execution_count": null,
      "outputs": [
        {
          "output_type": "execute_result",
          "data": {
            "text/plain": [
              "                        Track.Name    Artist.Name           Genre  \\\n",
              "0                         Señorita   Shawn Mendes    canadian pop   \n",
              "1                            China       Anuel AA  reggaeton flow   \n",
              "2    boyfriend (with Social House)  Ariana Grande       dance pop   \n",
              "3  Beautiful People (feat. Khalid)     Ed Sheeran             pop   \n",
              "4      Goodbyes (Feat. Young Thug)    Post Malone         dfw rap   \n",
              "\n",
              "   Beats.Per.Minute  Energy  Danceability  Loudness..dB..  Liveness  Valence.  \\\n",
              "0               117      55            76              -6         8        75   \n",
              "1               105      81            79              -4         8        61   \n",
              "2               190      80            40              -4        16        70   \n",
              "3                93      65            64              -8         8        55   \n",
              "4               150      65            58              -4        11        18   \n",
              "\n",
              "   Length.  Acousticness..  Speechiness.  Popularity  \n",
              "0      191               4             3          79  \n",
              "1      302               8             9          92  \n",
              "2      186              12            46          85  \n",
              "3      198              12            19          86  \n",
              "4      175              45             7          94  "
            ],
            "text/html": [
              "\n",
              "  <div id=\"df-3361a897-8459-49f3-85b4-1237fd438972\">\n",
              "    <div class=\"colab-df-container\">\n",
              "      <div>\n",
              "<style scoped>\n",
              "    .dataframe tbody tr th:only-of-type {\n",
              "        vertical-align: middle;\n",
              "    }\n",
              "\n",
              "    .dataframe tbody tr th {\n",
              "        vertical-align: top;\n",
              "    }\n",
              "\n",
              "    .dataframe thead th {\n",
              "        text-align: right;\n",
              "    }\n",
              "</style>\n",
              "<table border=\"1\" class=\"dataframe\">\n",
              "  <thead>\n",
              "    <tr style=\"text-align: right;\">\n",
              "      <th></th>\n",
              "      <th>Track.Name</th>\n",
              "      <th>Artist.Name</th>\n",
              "      <th>Genre</th>\n",
              "      <th>Beats.Per.Minute</th>\n",
              "      <th>Energy</th>\n",
              "      <th>Danceability</th>\n",
              "      <th>Loudness..dB..</th>\n",
              "      <th>Liveness</th>\n",
              "      <th>Valence.</th>\n",
              "      <th>Length.</th>\n",
              "      <th>Acousticness..</th>\n",
              "      <th>Speechiness.</th>\n",
              "      <th>Popularity</th>\n",
              "    </tr>\n",
              "  </thead>\n",
              "  <tbody>\n",
              "    <tr>\n",
              "      <th>0</th>\n",
              "      <td>Señorita</td>\n",
              "      <td>Shawn Mendes</td>\n",
              "      <td>canadian pop</td>\n",
              "      <td>117</td>\n",
              "      <td>55</td>\n",
              "      <td>76</td>\n",
              "      <td>-6</td>\n",
              "      <td>8</td>\n",
              "      <td>75</td>\n",
              "      <td>191</td>\n",
              "      <td>4</td>\n",
              "      <td>3</td>\n",
              "      <td>79</td>\n",
              "    </tr>\n",
              "    <tr>\n",
              "      <th>1</th>\n",
              "      <td>China</td>\n",
              "      <td>Anuel AA</td>\n",
              "      <td>reggaeton flow</td>\n",
              "      <td>105</td>\n",
              "      <td>81</td>\n",
              "      <td>79</td>\n",
              "      <td>-4</td>\n",
              "      <td>8</td>\n",
              "      <td>61</td>\n",
              "      <td>302</td>\n",
              "      <td>8</td>\n",
              "      <td>9</td>\n",
              "      <td>92</td>\n",
              "    </tr>\n",
              "    <tr>\n",
              "      <th>2</th>\n",
              "      <td>boyfriend (with Social House)</td>\n",
              "      <td>Ariana Grande</td>\n",
              "      <td>dance pop</td>\n",
              "      <td>190</td>\n",
              "      <td>80</td>\n",
              "      <td>40</td>\n",
              "      <td>-4</td>\n",
              "      <td>16</td>\n",
              "      <td>70</td>\n",
              "      <td>186</td>\n",
              "      <td>12</td>\n",
              "      <td>46</td>\n",
              "      <td>85</td>\n",
              "    </tr>\n",
              "    <tr>\n",
              "      <th>3</th>\n",
              "      <td>Beautiful People (feat. Khalid)</td>\n",
              "      <td>Ed Sheeran</td>\n",
              "      <td>pop</td>\n",
              "      <td>93</td>\n",
              "      <td>65</td>\n",
              "      <td>64</td>\n",
              "      <td>-8</td>\n",
              "      <td>8</td>\n",
              "      <td>55</td>\n",
              "      <td>198</td>\n",
              "      <td>12</td>\n",
              "      <td>19</td>\n",
              "      <td>86</td>\n",
              "    </tr>\n",
              "    <tr>\n",
              "      <th>4</th>\n",
              "      <td>Goodbyes (Feat. Young Thug)</td>\n",
              "      <td>Post Malone</td>\n",
              "      <td>dfw rap</td>\n",
              "      <td>150</td>\n",
              "      <td>65</td>\n",
              "      <td>58</td>\n",
              "      <td>-4</td>\n",
              "      <td>11</td>\n",
              "      <td>18</td>\n",
              "      <td>175</td>\n",
              "      <td>45</td>\n",
              "      <td>7</td>\n",
              "      <td>94</td>\n",
              "    </tr>\n",
              "  </tbody>\n",
              "</table>\n",
              "</div>\n",
              "      <button class=\"colab-df-convert\" onclick=\"convertToInteractive('df-3361a897-8459-49f3-85b4-1237fd438972')\"\n",
              "              title=\"Convert this dataframe to an interactive table.\"\n",
              "              style=\"display:none;\">\n",
              "        \n",
              "  <svg xmlns=\"http://www.w3.org/2000/svg\" height=\"24px\"viewBox=\"0 0 24 24\"\n",
              "       width=\"24px\">\n",
              "    <path d=\"M0 0h24v24H0V0z\" fill=\"none\"/>\n",
              "    <path d=\"M18.56 5.44l.94 2.06.94-2.06 2.06-.94-2.06-.94-.94-2.06-.94 2.06-2.06.94zm-11 1L8.5 8.5l.94-2.06 2.06-.94-2.06-.94L8.5 2.5l-.94 2.06-2.06.94zm10 10l.94 2.06.94-2.06 2.06-.94-2.06-.94-.94-2.06-.94 2.06-2.06.94z\"/><path d=\"M17.41 7.96l-1.37-1.37c-.4-.4-.92-.59-1.43-.59-.52 0-1.04.2-1.43.59L10.3 9.45l-7.72 7.72c-.78.78-.78 2.05 0 2.83L4 21.41c.39.39.9.59 1.41.59.51 0 1.02-.2 1.41-.59l7.78-7.78 2.81-2.81c.8-.78.8-2.07 0-2.86zM5.41 20L4 18.59l7.72-7.72 1.47 1.35L5.41 20z\"/>\n",
              "  </svg>\n",
              "      </button>\n",
              "      \n",
              "  <style>\n",
              "    .colab-df-container {\n",
              "      display:flex;\n",
              "      flex-wrap:wrap;\n",
              "      gap: 12px;\n",
              "    }\n",
              "\n",
              "    .colab-df-convert {\n",
              "      background-color: #E8F0FE;\n",
              "      border: none;\n",
              "      border-radius: 50%;\n",
              "      cursor: pointer;\n",
              "      display: none;\n",
              "      fill: #1967D2;\n",
              "      height: 32px;\n",
              "      padding: 0 0 0 0;\n",
              "      width: 32px;\n",
              "    }\n",
              "\n",
              "    .colab-df-convert:hover {\n",
              "      background-color: #E2EBFA;\n",
              "      box-shadow: 0px 1px 2px rgba(60, 64, 67, 0.3), 0px 1px 3px 1px rgba(60, 64, 67, 0.15);\n",
              "      fill: #174EA6;\n",
              "    }\n",
              "\n",
              "    [theme=dark] .colab-df-convert {\n",
              "      background-color: #3B4455;\n",
              "      fill: #D2E3FC;\n",
              "    }\n",
              "\n",
              "    [theme=dark] .colab-df-convert:hover {\n",
              "      background-color: #434B5C;\n",
              "      box-shadow: 0px 1px 3px 1px rgba(0, 0, 0, 0.15);\n",
              "      filter: drop-shadow(0px 1px 2px rgba(0, 0, 0, 0.3));\n",
              "      fill: #FFFFFF;\n",
              "    }\n",
              "  </style>\n",
              "\n",
              "      <script>\n",
              "        const buttonEl =\n",
              "          document.querySelector('#df-3361a897-8459-49f3-85b4-1237fd438972 button.colab-df-convert');\n",
              "        buttonEl.style.display =\n",
              "          google.colab.kernel.accessAllowed ? 'block' : 'none';\n",
              "\n",
              "        async function convertToInteractive(key) {\n",
              "          const element = document.querySelector('#df-3361a897-8459-49f3-85b4-1237fd438972');\n",
              "          const dataTable =\n",
              "            await google.colab.kernel.invokeFunction('convertToInteractive',\n",
              "                                                     [key], {});\n",
              "          if (!dataTable) return;\n",
              "\n",
              "          const docLinkHtml = 'Like what you see? Visit the ' +\n",
              "            '<a target=\"_blank\" href=https://colab.research.google.com/notebooks/data_table.ipynb>data table notebook</a>'\n",
              "            + ' to learn more about interactive tables.';\n",
              "          element.innerHTML = '';\n",
              "          dataTable['output_type'] = 'display_data';\n",
              "          await google.colab.output.renderOutput(dataTable, element);\n",
              "          const docLink = document.createElement('div');\n",
              "          docLink.innerHTML = docLinkHtml;\n",
              "          element.appendChild(docLink);\n",
              "        }\n",
              "      </script>\n",
              "    </div>\n",
              "  </div>\n",
              "  "
            ]
          },
          "metadata": {},
          "execution_count": 3
        }
      ]
    },
    {
      "cell_type": "markdown",
      "source": [
        "Rename attributes"
      ],
      "metadata": {
        "id": "u5bF4WayIu5c"
      }
    },
    {
      "cell_type": "code",
      "source": [
        "spoti.rename(columns={'Track.Name':'Track_name','Artist.Name':'Artist_name','Beats.Per.Minute':'Tempo','Loudness..dB..':'Loudness','Valence.':'Valence','Length.':'Length', 'Acousticness..':'Acousticness','Speechiness.':'Speechiness'},inplace=True)\n",
        "spoti.columns"
      ],
      "metadata": {
        "colab": {
          "base_uri": "https://localhost:8080/"
        },
        "id": "S9zL3-L09vl8",
        "outputId": "86c47935-1dc2-4666-bea9-fa1632340b8f"
      },
      "execution_count": null,
      "outputs": [
        {
          "output_type": "execute_result",
          "data": {
            "text/plain": [
              "Index(['Track_name', 'Artist_name', 'Genre', 'Tempo', 'Energy', 'Danceability',\n",
              "       'Loudness', 'Liveness', 'Valence', 'Length', 'Acousticness',\n",
              "       'Speechiness', 'Popularity'],\n",
              "      dtype='object')"
            ]
          },
          "metadata": {},
          "execution_count": 4
        }
      ]
    },
    {
      "cell_type": "markdown",
      "source": [
        "Create subset of data without track name,artist name, and genre attributes"
      ],
      "metadata": {
        "id": "uyE_XT7kIy-F"
      }
    },
    {
      "cell_type": "code",
      "source": [
        "spoti_sub = spoti.drop(columns = ['Track_name', 'Artist_name', 'Genre'])"
      ],
      "metadata": {
        "id": "63tuFZruX91U"
      },
      "execution_count": null,
      "outputs": []
    },
    {
      "cell_type": "markdown",
      "source": [
        "Standard Score Normalize all values"
      ],
      "metadata": {
        "id": "6DM__DaoI8gB"
      }
    },
    {
      "cell_type": "code",
      "source": [
        "spoti_norm = spoti_sub.copy()\n",
        "for column in spoti_norm.columns:\n",
        "    spoti_norm[column] = (spoti_norm[column] - spoti_norm[column].mean()) / spoti_norm[column].std()"
      ],
      "metadata": {
        "id": "9AeGjaLAHfXm"
      },
      "execution_count": null,
      "outputs": []
    },
    {
      "cell_type": "code",
      "source": [
        "spoti_norm.describe().T"
      ],
      "metadata": {
        "colab": {
          "base_uri": "https://localhost:8080/",
          "height": 363
        },
        "id": "oE74iJq29xcV",
        "outputId": "92544f9b-91ae-45dc-e85a-44a2b88d6758"
      },
      "execution_count": null,
      "outputs": [
        {
          "output_type": "execute_result",
          "data": {
            "text/plain": [
              "              count          mean  std       min       25%       50%  \\\n",
              "Tempo          50.0 -9.992007e-17  1.0 -1.134687 -0.778681 -0.503586   \n",
              "Energy         50.0 -1.554312e-16  1.0 -2.252684 -0.619031  0.171446   \n",
              "Danceability   50.0  3.952394e-16  1.0 -3.552425 -0.367145  0.177705   \n",
              "Loudness       50.0  7.660539e-17  1.0 -2.596710 -0.530040 -0.165334   \n",
              "Liveness       50.0  4.440892e-18  1.0 -0.868837 -0.599012 -0.329187   \n",
              "Valence        50.0 -3.108624e-17  1.0 -1.996774 -0.732001  0.040294   \n",
              "Length         50.0 -2.126077e-16  1.0 -2.196001 -0.618488 -0.075618   \n",
              "Acousticness   50.0  3.178013e-17  1.0 -1.113945 -0.732277 -0.376930   \n",
              "Speechiness    50.0 -5.467848e-17  1.0 -0.849341 -0.670155 -0.490969   \n",
              "Popularity     50.0 -3.108624e-17  1.0 -3.896258 -0.333965  0.111322   \n",
              "\n",
              "                   75%       max  \n",
              "Tempo         0.564431  2.263548  \n",
              "Energy        0.751129  1.682135  \n",
              "Danceability  0.701600  1.560787  \n",
              "Loudness      0.807217  1.779768  \n",
              "Liveness      0.098037  3.898076  \n",
              "Valence       0.667084  1.808737  \n",
              "Length        0.422544  2.760074  \n",
              "Acousticness  0.610143  2.781704  \n",
              "Speechiness   0.225774  3.003155  \n",
              "Popularity    0.723591  1.669825  "
            ],
            "text/html": [
              "\n",
              "  <div id=\"df-77904053-0d0b-44db-9491-ff33783023c0\">\n",
              "    <div class=\"colab-df-container\">\n",
              "      <div>\n",
              "<style scoped>\n",
              "    .dataframe tbody tr th:only-of-type {\n",
              "        vertical-align: middle;\n",
              "    }\n",
              "\n",
              "    .dataframe tbody tr th {\n",
              "        vertical-align: top;\n",
              "    }\n",
              "\n",
              "    .dataframe thead th {\n",
              "        text-align: right;\n",
              "    }\n",
              "</style>\n",
              "<table border=\"1\" class=\"dataframe\">\n",
              "  <thead>\n",
              "    <tr style=\"text-align: right;\">\n",
              "      <th></th>\n",
              "      <th>count</th>\n",
              "      <th>mean</th>\n",
              "      <th>std</th>\n",
              "      <th>min</th>\n",
              "      <th>25%</th>\n",
              "      <th>50%</th>\n",
              "      <th>75%</th>\n",
              "      <th>max</th>\n",
              "    </tr>\n",
              "  </thead>\n",
              "  <tbody>\n",
              "    <tr>\n",
              "      <th>Tempo</th>\n",
              "      <td>50.0</td>\n",
              "      <td>-9.992007e-17</td>\n",
              "      <td>1.0</td>\n",
              "      <td>-1.134687</td>\n",
              "      <td>-0.778681</td>\n",
              "      <td>-0.503586</td>\n",
              "      <td>0.564431</td>\n",
              "      <td>2.263548</td>\n",
              "    </tr>\n",
              "    <tr>\n",
              "      <th>Energy</th>\n",
              "      <td>50.0</td>\n",
              "      <td>-1.554312e-16</td>\n",
              "      <td>1.0</td>\n",
              "      <td>-2.252684</td>\n",
              "      <td>-0.619031</td>\n",
              "      <td>0.171446</td>\n",
              "      <td>0.751129</td>\n",
              "      <td>1.682135</td>\n",
              "    </tr>\n",
              "    <tr>\n",
              "      <th>Danceability</th>\n",
              "      <td>50.0</td>\n",
              "      <td>3.952394e-16</td>\n",
              "      <td>1.0</td>\n",
              "      <td>-3.552425</td>\n",
              "      <td>-0.367145</td>\n",
              "      <td>0.177705</td>\n",
              "      <td>0.701600</td>\n",
              "      <td>1.560787</td>\n",
              "    </tr>\n",
              "    <tr>\n",
              "      <th>Loudness</th>\n",
              "      <td>50.0</td>\n",
              "      <td>7.660539e-17</td>\n",
              "      <td>1.0</td>\n",
              "      <td>-2.596710</td>\n",
              "      <td>-0.530040</td>\n",
              "      <td>-0.165334</td>\n",
              "      <td>0.807217</td>\n",
              "      <td>1.779768</td>\n",
              "    </tr>\n",
              "    <tr>\n",
              "      <th>Liveness</th>\n",
              "      <td>50.0</td>\n",
              "      <td>4.440892e-18</td>\n",
              "      <td>1.0</td>\n",
              "      <td>-0.868837</td>\n",
              "      <td>-0.599012</td>\n",
              "      <td>-0.329187</td>\n",
              "      <td>0.098037</td>\n",
              "      <td>3.898076</td>\n",
              "    </tr>\n",
              "    <tr>\n",
              "      <th>Valence</th>\n",
              "      <td>50.0</td>\n",
              "      <td>-3.108624e-17</td>\n",
              "      <td>1.0</td>\n",
              "      <td>-1.996774</td>\n",
              "      <td>-0.732001</td>\n",
              "      <td>0.040294</td>\n",
              "      <td>0.667084</td>\n",
              "      <td>1.808737</td>\n",
              "    </tr>\n",
              "    <tr>\n",
              "      <th>Length</th>\n",
              "      <td>50.0</td>\n",
              "      <td>-2.126077e-16</td>\n",
              "      <td>1.0</td>\n",
              "      <td>-2.196001</td>\n",
              "      <td>-0.618488</td>\n",
              "      <td>-0.075618</td>\n",
              "      <td>0.422544</td>\n",
              "      <td>2.760074</td>\n",
              "    </tr>\n",
              "    <tr>\n",
              "      <th>Acousticness</th>\n",
              "      <td>50.0</td>\n",
              "      <td>3.178013e-17</td>\n",
              "      <td>1.0</td>\n",
              "      <td>-1.113945</td>\n",
              "      <td>-0.732277</td>\n",
              "      <td>-0.376930</td>\n",
              "      <td>0.610143</td>\n",
              "      <td>2.781704</td>\n",
              "    </tr>\n",
              "    <tr>\n",
              "      <th>Speechiness</th>\n",
              "      <td>50.0</td>\n",
              "      <td>-5.467848e-17</td>\n",
              "      <td>1.0</td>\n",
              "      <td>-0.849341</td>\n",
              "      <td>-0.670155</td>\n",
              "      <td>-0.490969</td>\n",
              "      <td>0.225774</td>\n",
              "      <td>3.003155</td>\n",
              "    </tr>\n",
              "    <tr>\n",
              "      <th>Popularity</th>\n",
              "      <td>50.0</td>\n",
              "      <td>-3.108624e-17</td>\n",
              "      <td>1.0</td>\n",
              "      <td>-3.896258</td>\n",
              "      <td>-0.333965</td>\n",
              "      <td>0.111322</td>\n",
              "      <td>0.723591</td>\n",
              "      <td>1.669825</td>\n",
              "    </tr>\n",
              "  </tbody>\n",
              "</table>\n",
              "</div>\n",
              "      <button class=\"colab-df-convert\" onclick=\"convertToInteractive('df-77904053-0d0b-44db-9491-ff33783023c0')\"\n",
              "              title=\"Convert this dataframe to an interactive table.\"\n",
              "              style=\"display:none;\">\n",
              "        \n",
              "  <svg xmlns=\"http://www.w3.org/2000/svg\" height=\"24px\"viewBox=\"0 0 24 24\"\n",
              "       width=\"24px\">\n",
              "    <path d=\"M0 0h24v24H0V0z\" fill=\"none\"/>\n",
              "    <path d=\"M18.56 5.44l.94 2.06.94-2.06 2.06-.94-2.06-.94-.94-2.06-.94 2.06-2.06.94zm-11 1L8.5 8.5l.94-2.06 2.06-.94-2.06-.94L8.5 2.5l-.94 2.06-2.06.94zm10 10l.94 2.06.94-2.06 2.06-.94-2.06-.94-.94-2.06-.94 2.06-2.06.94z\"/><path d=\"M17.41 7.96l-1.37-1.37c-.4-.4-.92-.59-1.43-.59-.52 0-1.04.2-1.43.59L10.3 9.45l-7.72 7.72c-.78.78-.78 2.05 0 2.83L4 21.41c.39.39.9.59 1.41.59.51 0 1.02-.2 1.41-.59l7.78-7.78 2.81-2.81c.8-.78.8-2.07 0-2.86zM5.41 20L4 18.59l7.72-7.72 1.47 1.35L5.41 20z\"/>\n",
              "  </svg>\n",
              "      </button>\n",
              "      \n",
              "  <style>\n",
              "    .colab-df-container {\n",
              "      display:flex;\n",
              "      flex-wrap:wrap;\n",
              "      gap: 12px;\n",
              "    }\n",
              "\n",
              "    .colab-df-convert {\n",
              "      background-color: #E8F0FE;\n",
              "      border: none;\n",
              "      border-radius: 50%;\n",
              "      cursor: pointer;\n",
              "      display: none;\n",
              "      fill: #1967D2;\n",
              "      height: 32px;\n",
              "      padding: 0 0 0 0;\n",
              "      width: 32px;\n",
              "    }\n",
              "\n",
              "    .colab-df-convert:hover {\n",
              "      background-color: #E2EBFA;\n",
              "      box-shadow: 0px 1px 2px rgba(60, 64, 67, 0.3), 0px 1px 3px 1px rgba(60, 64, 67, 0.15);\n",
              "      fill: #174EA6;\n",
              "    }\n",
              "\n",
              "    [theme=dark] .colab-df-convert {\n",
              "      background-color: #3B4455;\n",
              "      fill: #D2E3FC;\n",
              "    }\n",
              "\n",
              "    [theme=dark] .colab-df-convert:hover {\n",
              "      background-color: #434B5C;\n",
              "      box-shadow: 0px 1px 3px 1px rgba(0, 0, 0, 0.15);\n",
              "      filter: drop-shadow(0px 1px 2px rgba(0, 0, 0, 0.3));\n",
              "      fill: #FFFFFF;\n",
              "    }\n",
              "  </style>\n",
              "\n",
              "      <script>\n",
              "        const buttonEl =\n",
              "          document.querySelector('#df-77904053-0d0b-44db-9491-ff33783023c0 button.colab-df-convert');\n",
              "        buttonEl.style.display =\n",
              "          google.colab.kernel.accessAllowed ? 'block' : 'none';\n",
              "\n",
              "        async function convertToInteractive(key) {\n",
              "          const element = document.querySelector('#df-77904053-0d0b-44db-9491-ff33783023c0');\n",
              "          const dataTable =\n",
              "            await google.colab.kernel.invokeFunction('convertToInteractive',\n",
              "                                                     [key], {});\n",
              "          if (!dataTable) return;\n",
              "\n",
              "          const docLinkHtml = 'Like what you see? Visit the ' +\n",
              "            '<a target=\"_blank\" href=https://colab.research.google.com/notebooks/data_table.ipynb>data table notebook</a>'\n",
              "            + ' to learn more about interactive tables.';\n",
              "          element.innerHTML = '';\n",
              "          dataTable['output_type'] = 'display_data';\n",
              "          await google.colab.output.renderOutput(dataTable, element);\n",
              "          const docLink = document.createElement('div');\n",
              "          docLink.innerHTML = docLinkHtml;\n",
              "          element.appendChild(docLink);\n",
              "        }\n",
              "      </script>\n",
              "    </div>\n",
              "  </div>\n",
              "  "
            ]
          },
          "metadata": {},
          "execution_count": 7
        }
      ]
    },
    {
      "cell_type": "markdown",
      "source": [
        "##DATA MINING TECHNIQUES\n",
        "\n"
      ],
      "metadata": {
        "id": "ahTy4Sfua466"
      }
    },
    {
      "cell_type": "code",
      "source": [
        "from sklearn.decomposition import PCA\n",
        "pca = PCA()\n",
        "pca.fit(spoti_norm)\n",
        "var_ratio = pca.explained_variance_ratio_\n",
        "plt.plot(range(1,len(var_ratio)+1), np.cumsum(var_ratio), marker='x', color=('blue'))\n",
        "plt.title('Spotify data: fraction of total variance preserved by principal components')\n",
        "plt.xlabel('r : the number of principal components')\n",
        "plt.ylabel('f(r) : fraction of total variance preserved')"
      ],
      "metadata": {
        "colab": {
          "base_uri": "https://localhost:8080/",
          "height": 313
        },
        "id": "IJfvp2_xb3f-",
        "outputId": "0a53ca43-4f03-474d-f8c2-feed5548c91f"
      },
      "execution_count": null,
      "outputs": [
        {
          "output_type": "execute_result",
          "data": {
            "text/plain": [
              "Text(0, 0.5, 'f(r) : fraction of total variance preserved')"
            ]
          },
          "metadata": {},
          "execution_count": 8
        },
        {
          "output_type": "display_data",
          "data": {
            "text/plain": [
              "<Figure size 432x288 with 1 Axes>"
            ],
            "image/png": "[encoded data removed]"
          },
          "metadata": {
            "needs_background": "light"
          }
        }
      ]
    },
    {
      "cell_type": "markdown",
      "source": [
        "We see that r=6 preserves atleast 80% of total variance, which we will use further in our analysis"
      ],
      "metadata": {
        "id": "NxvDKXCCFmU9"
      }
    },
    {
      "cell_type": "code",
      "source": [
        "pca = PCA(6)\n",
        "pca.fit(spoti_norm)\n",
        "reduced = pca.transform(spoti_norm)\n",
        "plt.scatter(reduced[:,0], reduced[:,1])\n",
        "plt.title(\"PCA of Songs with six Principle Components\")\n",
        "plt.xlabel('1st Principle Component')\n",
        "plt.ylabel('2nd Principle Component')\n",
        "plt.show()"
      ],
      "metadata": {
        "colab": {
          "base_uri": "https://localhost:8080/",
          "height": 295
        },
        "id": "yS9jsV3BjGol",
        "outputId": "ec3896cf-94f4-4fa5-9358-257d645ad9b1"
      },
      "execution_count": null,
      "outputs": [
        {
          "output_type": "display_data",
          "data": {
            "text/plain": [
              "<Figure size 432x288 with 1 Axes>"
            ],
            "image/png": "[encoded data removed]"
          },
          "metadata": {
            "needs_background": "light"
          }
        }
      ]
    },
    {
      "cell_type": "markdown",
      "source": [
        "K-Means clustering:"
      ],
      "metadata": {
        "id": "Xc7kP41mmm8l"
      }
    },
    {
      "cell_type": "code",
      "source": [
        "from sklearn.cluster import KMeans\n",
        "score_list = []\n",
        "for i in range(2,10):\n",
        "    kmeans_model = KMeans(n_clusters=i, random_state=3).fit(spoti_norm)\n",
        "    preds = kmeans_model.predict(spoti_norm)\n",
        "    score_list.append(kmeans_model.inertia_)\n",
        "pd.DataFrame(score_list, index=range(2, 10)).plot(legend=False).set(xlabel=\"Cluster Size\", ylabel=\"Inertia\")"
      ],
      "metadata": {
        "id": "phq2RqpjLmqF",
        "colab": {
          "base_uri": "https://localhost:8080/",
          "height": 297
        },
        "outputId": "22479d9f-c7af-412e-b673-a0dd9417125e"
      },
      "execution_count": null,
      "outputs": [
        {
          "output_type": "execute_result",
          "data": {
            "text/plain": [
              "[Text(0, 0.5, 'Inertia'), Text(0.5, 0, 'Cluster Size')]"
            ]
          },
          "metadata": {},
          "execution_count": 10
        },
        {
          "output_type": "display_data",
          "data": {
            "text/plain": [
              "<Figure size 432x288 with 1 Axes>"
            ],
            "image/png": "[encoded data removed]"
          },
          "metadata": {
            "needs_background": "light"
          }
        }
      ]
    },
    {
      "cell_type": "markdown",
      "source": [
        "A cluster size of 5 marks a small elbow"
      ],
      "metadata": {
        "id": "HOa5peVnKgM6"
      }
    },
    {
      "cell_type": "code",
      "source": [
        "n_clusters = 5\n",
        "kmeans_model = KMeans(n_clusters=n_clusters, random_state=3).fit(spoti_norm)\n",
        "preds = kmeans_model.predict(spoti_norm)"
      ],
      "metadata": {
        "id": "ErUNmzpmKjZF"
      },
      "execution_count": null,
      "outputs": []
    },
    {
      "cell_type": "code",
      "source": [
        "plt.scatter(reduced[:,0], reduced[:,1], c=preds, cmap=plt.cm.Paired)\n",
        "plt.title(\"KMeans Clusters of Songs with Two Principle Components\")\n",
        "plt.xlabel('1st Principle Component')\n",
        "plt.ylabel('2nd Principle Component')\n",
        "plt.show()"
      ],
      "metadata": {
        "colab": {
          "base_uri": "https://localhost:8080/",
          "height": 295
        },
        "id": "njMiKdsnFwjT",
        "outputId": "e362c7d5-3fc3-499b-b55d-0d69be3c2088"
      },
      "execution_count": null,
      "outputs": [
        {
          "output_type": "display_data",
          "data": {
            "text/plain": [
              "<Figure size 432x288 with 1 Axes>"
            ],
            "image/png": "[encoded data removed]"
          },
          "metadata": {
            "needs_background": "light"
          }
        }
      ]
    },
    {
      "cell_type": "code",
      "source": [
        "spoti_norm['cluster'] = preds\n",
        "cluster_means = spoti_norm.groupby('cluster').agg('mean')\n",
        "cluster_means"
      ],
      "metadata": {
        "colab": {
          "base_uri": "https://localhost:8080/",
          "height": 237
        },
        "id": "mZsjNI_2K_D_",
        "outputId": "95770f44-8a2b-4798-f19e-c5c7acea42dd"
      },
      "execution_count": null,
      "outputs": [
        {
          "output_type": "execute_result",
          "data": {
            "text/plain": [
              "            Tempo    Energy  Danceability  Loudness  Liveness   Valence  \\\n",
              "cluster                                                                   \n",
              "0       -0.584496  1.007595      0.060353  0.807217  1.262782  0.465616   \n",
              "1       -0.474956  0.152528      0.696764  0.171319 -0.446803  0.768679   \n",
              "2       -0.254787 -0.632206     -0.435252 -0.469256 -0.228002 -0.846726   \n",
              "3        1.810450  0.391023     -0.346190  0.624864 -0.250488 -0.099615   \n",
              "4        0.537461 -1.690567      0.024029 -2.596710 -0.389148 -0.101480   \n",
              "\n",
              "           Length  Acousticness  Speechiness  Popularity  \n",
              "cluster                                                   \n",
              "0        0.721441     -0.361137    -0.446173    0.244908  \n",
              "1       -0.403796      0.270995    -0.325567   -0.864884  \n",
              "2       -0.214529     -0.054486    -0.423775    0.166983  \n",
              "3        0.294810     -0.212418     1.222495    0.473117  \n",
              "4       -0.297024      0.886523     1.898175    0.779252  "
            ],
            "text/html": [
              "\n",
              "  <div id=\"df-3ee6f4f2-ff49-459d-ad46-16a1ea8b5326\">\n",
              "    <div class=\"colab-df-container\">\n",
              "      <div>\n",
              "<style scoped>\n",
              "    .dataframe tbody tr th:only-of-type {\n",
              "        vertical-align: middle;\n",
              "    }\n",
              "\n",
              "    .dataframe tbody tr th {\n",
              "        vertical-align: top;\n",
              "    }\n",
              "\n",
              "    .dataframe thead th {\n",
              "        text-align: right;\n",
              "    }\n",
              "</style>\n",
              "<table border=\"1\" class=\"dataframe\">\n",
              "  <thead>\n",
              "    <tr style=\"text-align: right;\">\n",
              "      <th></th>\n",
              "      <th>Tempo</th>\n",
              "      <th>Energy</th>\n",
              "      <th>Danceability</th>\n",
              "      <th>Loudness</th>\n",
              "      <th>Liveness</th>\n",
              "      <th>Valence</th>\n",
              "      <th>Length</th>\n",
              "      <th>Acousticness</th>\n",
              "      <th>Speechiness</th>\n",
              "      <th>Popularity</th>\n",
              "    </tr>\n",
              "    <tr>\n",
              "      <th>cluster</th>\n",
              "      <th></th>\n",
              "      <th></th>\n",
              "      <th></th>\n",
              "      <th></th>\n",
              "      <th></th>\n",
              "      <th></th>\n",
              "      <th></th>\n",
              "      <th></th>\n",
              "      <th></th>\n",
              "      <th></th>\n",
              "    </tr>\n",
              "  </thead>\n",
              "  <tbody>\n",
              "    <tr>\n",
              "      <th>0</th>\n",
              "      <td>-0.584496</td>\n",
              "      <td>1.007595</td>\n",
              "      <td>0.060353</td>\n",
              "      <td>0.807217</td>\n",
              "      <td>1.262782</td>\n",
              "      <td>0.465616</td>\n",
              "      <td>0.721441</td>\n",
              "      <td>-0.361137</td>\n",
              "      <td>-0.446173</td>\n",
              "      <td>0.244908</td>\n",
              "    </tr>\n",
              "    <tr>\n",
              "      <th>1</th>\n",
              "      <td>-0.474956</td>\n",
              "      <td>0.152528</td>\n",
              "      <td>0.696764</td>\n",
              "      <td>0.171319</td>\n",
              "      <td>-0.446803</td>\n",
              "      <td>0.768679</td>\n",
              "      <td>-0.403796</td>\n",
              "      <td>0.270995</td>\n",
              "      <td>-0.325567</td>\n",
              "      <td>-0.864884</td>\n",
              "    </tr>\n",
              "    <tr>\n",
              "      <th>2</th>\n",
              "      <td>-0.254787</td>\n",
              "      <td>-0.632206</td>\n",
              "      <td>-0.435252</td>\n",
              "      <td>-0.469256</td>\n",
              "      <td>-0.228002</td>\n",
              "      <td>-0.846726</td>\n",
              "      <td>-0.214529</td>\n",
              "      <td>-0.054486</td>\n",
              "      <td>-0.423775</td>\n",
              "      <td>0.166983</td>\n",
              "    </tr>\n",
              "    <tr>\n",
              "      <th>3</th>\n",
              "      <td>1.810450</td>\n",
              "      <td>0.391023</td>\n",
              "      <td>-0.346190</td>\n",
              "      <td>0.624864</td>\n",
              "      <td>-0.250488</td>\n",
              "      <td>-0.099615</td>\n",
              "      <td>0.294810</td>\n",
              "      <td>-0.212418</td>\n",
              "      <td>1.222495</td>\n",
              "      <td>0.473117</td>\n",
              "    </tr>\n",
              "    <tr>\n",
              "      <th>4</th>\n",
              "      <td>0.537461</td>\n",
              "      <td>-1.690567</td>\n",
              "      <td>0.024029</td>\n",
              "      <td>-2.596710</td>\n",
              "      <td>-0.389148</td>\n",
              "      <td>-0.101480</td>\n",
              "      <td>-0.297024</td>\n",
              "      <td>0.886523</td>\n",
              "      <td>1.898175</td>\n",
              "      <td>0.779252</td>\n",
              "    </tr>\n",
              "  </tbody>\n",
              "</table>\n",
              "</div>\n",
              "      <button class=\"colab-df-convert\" onclick=\"convertToInteractive('df-3ee6f4f2-ff49-459d-ad46-16a1ea8b5326')\"\n",
              "              title=\"Convert this dataframe to an interactive table.\"\n",
              "              style=\"display:none;\">\n",
              "        \n",
              "  <svg xmlns=\"http://www.w3.org/2000/svg\" height=\"24px\"viewBox=\"0 0 24 24\"\n",
              "       width=\"24px\">\n",
              "    <path d=\"M0 0h24v24H0V0z\" fill=\"none\"/>\n",
              "    <path d=\"M18.56 5.44l.94 2.06.94-2.06 2.06-.94-2.06-.94-.94-2.06-.94 2.06-2.06.94zm-11 1L8.5 8.5l.94-2.06 2.06-.94-2.06-.94L8.5 2.5l-.94 2.06-2.06.94zm10 10l.94 2.06.94-2.06 2.06-.94-2.06-.94-.94-2.06-.94 2.06-2.06.94z\"/><path d=\"M17.41 7.96l-1.37-1.37c-.4-.4-.92-.59-1.43-.59-.52 0-1.04.2-1.43.59L10.3 9.45l-7.72 7.72c-.78.78-.78 2.05 0 2.83L4 21.41c.39.39.9.59 1.41.59.51 0 1.02-.2 1.41-.59l7.78-7.78 2.81-2.81c.8-.78.8-2.07 0-2.86zM5.41 20L4 18.59l7.72-7.72 1.47 1.35L5.41 20z\"/>\n",
              "  </svg>\n",
              "      </button>\n",
              "      \n",
              "  <style>\n",
              "    .colab-df-container {\n",
              "      display:flex;\n",
              "      flex-wrap:wrap;\n",
              "      gap: 12px;\n",
              "    }\n",
              "\n",
              "    .colab-df-convert {\n",
              "      background-color: #E8F0FE;\n",
              "      border: none;\n",
              "      border-radius: 50%;\n",
              "      cursor: pointer;\n",
              "      display: none;\n",
              "      fill: #1967D2;\n",
              "      height: 32px;\n",
              "      padding: 0 0 0 0;\n",
              "      width: 32px;\n",
              "    }\n",
              "\n",
              "    .colab-df-convert:hover {\n",
              "      background-color: #E2EBFA;\n",
              "      box-shadow: 0px 1px 2px rgba(60, 64, 67, 0.3), 0px 1px 3px 1px rgba(60, 64, 67, 0.15);\n",
              "      fill: #174EA6;\n",
              "    }\n",
              "\n",
              "    [theme=dark] .colab-df-convert {\n",
              "      background-color: #3B4455;\n",
              "      fill: #D2E3FC;\n",
              "    }\n",
              "\n",
              "    [theme=dark] .colab-df-convert:hover {\n",
              "      background-color: #434B5C;\n",
              "      box-shadow: 0px 1px 3px 1px rgba(0, 0, 0, 0.15);\n",
              "      filter: drop-shadow(0px 1px 2px rgba(0, 0, 0, 0.3));\n",
              "      fill: #FFFFFF;\n",
              "    }\n",
              "  </style>\n",
              "\n",
              "      <script>\n",
              "        const buttonEl =\n",
              "          document.querySelector('#df-3ee6f4f2-ff49-459d-ad46-16a1ea8b5326 button.colab-df-convert');\n",
              "        buttonEl.style.display =\n",
              "          google.colab.kernel.accessAllowed ? 'block' : 'none';\n",
              "\n",
              "        async function convertToInteractive(key) {\n",
              "          const element = document.querySelector('#df-3ee6f4f2-ff49-459d-ad46-16a1ea8b5326');\n",
              "          const dataTable =\n",
              "            await google.colab.kernel.invokeFunction('convertToInteractive',\n",
              "                                                     [key], {});\n",
              "          if (!dataTable) return;\n",
              "\n",
              "          const docLinkHtml = 'Like what you see? Visit the ' +\n",
              "            '<a target=\"_blank\" href=https://colab.research.google.com/notebooks/data_table.ipynb>data table notebook</a>'\n",
              "            + ' to learn more about interactive tables.';\n",
              "          element.innerHTML = '';\n",
              "          dataTable['output_type'] = 'display_data';\n",
              "          await google.colab.output.renderOutput(dataTable, element);\n",
              "          const docLink = document.createElement('div');\n",
              "          docLink.innerHTML = docLinkHtml;\n",
              "          element.appendChild(docLink);\n",
              "        }\n",
              "      </script>\n",
              "    </div>\n",
              "  </div>\n",
              "  "
            ]
          },
          "metadata": {},
          "execution_count": 12
        }
      ]
    },
    {
      "cell_type": "markdown",
      "source": [
        "Match songs with clusters"
      ],
      "metadata": {
        "id": "_zT5s9MNSgdd"
      }
    },
    {
      "cell_type": "code",
      "source": [
        "songs = [x for x in spoti['Track_name']]\n",
        "artists = [x for x in spoti['Artist_name']]\n",
        "genres = [x for x in spoti['Genre']]\n",
        "clusters = dict([(key, []) for key in range(n_clusters)])\n",
        "for i,cluster in enumerate(preds):\n",
        "  clusters[cluster].append((songs[i],artists[i],genres[i]))"
      ],
      "metadata": {
        "id": "zQ3bsZm0LMg4"
      },
      "execution_count": null,
      "outputs": []
    },
    {
      "cell_type": "markdown",
      "source": [
        "##DATA VISUALIZATION"
      ],
      "metadata": {
        "id": "L-2GEcOZPdM-"
      }
    },
    {
      "cell_type": "markdown",
      "source": [
        "Find standard deviations for each category"
      ],
      "metadata": {
        "id": "GKKGHv2UcjyO"
      }
    },
    {
      "cell_type": "code",
      "source": [
        "spoti_norm.hist(xlabelsize=8, figsize=(12,10))\n",
        "plt.show()"
      ],
      "metadata": {
        "colab": {
          "base_uri": "https://localhost:8080/",
          "height": 606
        },
        "id": "X6495rGDHCP1",
        "outputId": "83cab598-2d2c-43d7-d309-0855a78f1303"
      },
      "execution_count": null,
      "outputs": [
        {
          "output_type": "display_data",
          "data": {
            "text/plain": [
              "<Figure size 864x720 with 12 Axes>"
            ],
            "image/png": "[encoded data removed]"
          },
          "metadata": {
            "needs_background": "light"
          }
        }
      ]
    },
    {
      "cell_type": "markdown",
      "source": [
        "Popular Songs -> Low tempo and high dancability"
      ],
      "metadata": {
        "id": "QJCc7v8XIPle"
      }
    },
    {
      "cell_type": "markdown",
      "source": [
        "Auto-generate playlist titles for each cluster"
      ],
      "metadata": {
        "id": "7jt45I7mSk0V"
      }
    },
    {
      "cell_type": "code",
      "source": [
        "loudness_names = ['quiet', 'loud']\n",
        "tempo_names = ['slow jams','bops']\n",
        "speechiness_names = ['to study to', 'to sing along to']\n",
        "for i in range(n_clusters) :\n",
        "  tempo, speech, loudness = cluster_means.loc[i, 'Tempo'], cluster_means.loc[i, 'Speechiness'], cluster_means.loc[i, 'Loudness']\n",
        "  print((loudness_names[0] if loudness<0 else loudness_names[1]), \\\n",
        "        (tempo_names[0] if tempo<0 else tempo_names[1]), \\\n",
        "        (speechiness_names[0] if speech<0 else speechiness_names[1]), ': ')\n",
        "  for song in clusters[i]:\n",
        "    print(\" \", song[0], 'by', song[1], \"(\",song[2], \")\")"
      ],
      "metadata": {
        "colab": {
          "base_uri": "https://localhost:8080/"
        },
        "id": "gICvXBcjSt81",
        "outputId": "b3acd2d8-292c-4047-c942-e699159cf7f1"
      },
      "execution_count": null,
      "outputs": [
        {
          "output_type": "stream",
          "name": "stdout",
          "text": [
            "loud slow jams to study to : \n",
            "  China by Anuel AA ( reggaeton flow )\n",
            "  No Me Conoce - Remix by Jhay Cortez ( reggaeton flow )\n",
            "  Soltera - Remix by Lunay ( latin )\n",
            "  Con Calma by Daddy Yankee ( latin )\n",
            "  QUE PRETENDES by J Balvin ( latin )\n",
            "  Never Really Over by Katy Perry ( dance pop )\n",
            "  Antisocial (with Travis Scott) by Ed Sheeran ( pop )\n",
            "  One Thing Right by Marshmello ( brostep )\n",
            "  Happier by Marshmello ( brostep )\n",
            "  Call You Mine by The Chainsmokers ( edm )\n",
            "loud slow jams to study to : \n",
            "  Señorita by Shawn Mendes ( canadian pop )\n",
            "  I Don't Care (with Justin Bieber) by Ed Sheeran ( pop )\n",
            "  Old Town Road - Remix by Lil Nas X ( country rap )\n",
            "  Loco Contigo (feat. J. Balvin & Tyga) by DJ Snake ( dance pop )\n",
            "  Sunflower - Spider-Man: Into the Spider-Verse by Post Malone ( dfw rap )\n",
            "  If I Can't Have You by Shawn Mendes ( canadian pop )\n",
            "  Dance Monkey by Tones and I ( australian pop )\n",
            "  0.958333333333333 by Maluma ( reggaeton )\n",
            "  Sucker by Jonas Brothers ( boy band )\n",
            "  fuck, i'm lonely (with Anne-Marie) - from 13 Reasons Why: Season 3 by Lauv ( dance pop )\n",
            "  You Need To Calm Down by Taylor Swift ( dance pop )\n",
            "  Con Altura by ROSALÍA ( r&b en espanol )\n",
            "  Cross Me (feat. Chance the Rapper & PnB Rock) by Ed Sheeran ( pop )\n",
            "quiet slow jams to study to : \n",
            "  Beautiful People (feat. Khalid) by Ed Sheeran ( pop )\n",
            "  Goodbyes (Feat. Young Thug) by Post Malone ( dfw rap )\n",
            "  How Do You Sleep? by Sam Smith ( pop )\n",
            "  Someone You Loved by Lewis Capaldi ( pop )\n",
            "  Money In The Grave (Drake ft. Rick Ross) by Drake ( canadian hip hop )\n",
            "  No Guidance (feat. Drake) by Chris Brown ( dance pop )\n",
            "  Lalala by Y2K ( canadian hip hop )\n",
            "  Piece Of Your Heart by MEDUZA ( pop house )\n",
            "  Panini by Lil Nas X ( country rap )\n",
            "  It's You by Ali Gatie ( canadian hip hop )\n",
            "  Takeaway by The Chainsmokers ( edm )\n",
            "  The London (feat. J. Cole & Travis Scott) by Young Thug ( atl hip hop )\n",
            "  Summer Days (feat. Macklemore & Patrick Stump of Fall Out Boy) by Martin Garrix ( big room )\n",
            "  Higher Love by Kygo ( edm )\n",
            "  Shallow by Lady Gaga ( dance pop )\n",
            "  Talk by Khalid ( pop )\n",
            "loud bops to sing along to : \n",
            "  boyfriend (with Social House) by Ariana Grande ( dance pop )\n",
            "  Ransom by Lil Tecca ( trap music )\n",
            "  Callaita by Bad Bunny ( reggaeton )\n",
            "  Otro Trago - Remix by Sech ( panamanian pop )\n",
            "  LA CANCIÓN by J Balvin ( latin )\n",
            "  Truth Hurts by Lizzo ( escape room )\n",
            "  Otro Trago by Sech ( panamanian pop )\n",
            "  Te Robaré by Nicky Jam ( latin )\n",
            "quiet bops to sing along to : \n",
            "  bad guy by Billie Eilish ( electropop )\n",
            "  bad guy (with Justin Bieber) by Billie Eilish ( electropop )\n",
            "  7 rings by Ariana Grande ( dance pop )\n"
          ]
        }
      ]
    },
    {
      "cell_type": "code",
      "source": [
        "plt.figure(figsize=(10,10))\n",
        "plt.title('Correlation Map')\n",
        "corr = spoti.corr()\n",
        "mask = np.triu(np.ones_like(corr))\n",
        "cmap = sns.diverging_palette(220, 20, as_cmap=True)\n",
        "ax=sns.heatmap(corr, mask=mask, annot=True, fmt=\".2f\", linewidths=5, cmap=cmap, vmin=-1, vmax=1, cbar_kws={\"shrink\": .8}, square=True)"
      ],
      "metadata": {
        "colab": {
          "base_uri": "https://localhost:8080/",
          "height": 565
        },
        "id": "XoYvIb32VSa2",
        "outputId": "25db4f24-51bf-4a5b-8b5c-c461cef84aac"
      },
      "execution_count": null,
      "outputs": [
        {
          "output_type": "display_data",
          "data": {
            "text/plain": [
              "<Figure size 720x720 with 2 Axes>"
            ],
            "image/png": "[encoded data removed]"
          },
          "metadata": {
            "needs_background": "light"
          }
        }
      ]
    },
    {
      "cell_type": "code",
      "source": [
        "sns.catplot(y = \"Genre\", kind = \"count\", data = spoti)"
      ],
      "metadata": {
        "colab": {
          "base_uri": "https://localhost:8080/",
          "height": 387
        },
        "id": "5b5eZ6pUP8zU",
        "outputId": "f4079c25-bdb0-4851-83a6-8f78472228fc"
      },
      "execution_count": null,
      "outputs": [
        {
          "output_type": "execute_result",
          "data": {
            "text/plain": [
              "<seaborn.axisgrid.FacetGrid at 0x7fdad7bf8990>"
            ]
          },
          "metadata": {},
          "execution_count": 17
        },
        {
          "output_type": "display_data",
          "data": {
            "text/plain": [
              "<Figure size 360x360 with 1 Axes>"
            ],
            "image/png": "[encoded data removed]"
          },
          "metadata": {
            "needs_background": "light"
          }
        }
      ]
    }
  ]
}