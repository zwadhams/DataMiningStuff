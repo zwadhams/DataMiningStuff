{
  "nbformat": 4,
  "nbformat_minor": 0,
  "metadata": {
    "colab": {
      "name": "FinalProject.ipynb",
      "provenance": [],
      "collapsed_sections": [],
      "include_colab_link": true
    },
    "kernelspec": {
      "name": "python3",
      "display_name": "Python 3"
    },
    "language_info": {
      "name": "python"
    }
  },
  "cells": [
    {
      "cell_type": "markdown",
      "metadata": {
        "id": "view-in-github",
        "colab_type": "text"
      },
      "source": [
        "<a href=\"https://colab.research.google.com/github/zwadhams/DataMiningStuff/blob/main/FinalProject.ipynb\" target=\"_parent\"><img src=\"https://colab.research.google.com/assets/colab-badge.svg\" alt=\"Open In Colab\"/></a>"
      ]
    },
    {
      "cell_type": "markdown",
      "source": [
        "https://www.kaggle.com/datasets/leonardopena/top50spotify2019"
      ],
      "metadata": {
        "id": "cFhi4gTCrRES"
      }
    },
    {
      "cell_type": "markdown",
      "source": [
        "# Project 4.1\n",
        "\n",
        "The Problem:\n",
        "\n",
        "\n",
        "Data Mining Techniques:\n",
        "\n",
        "\n",
        "Future Work:\n"
      ],
      "metadata": {
        "id": "wb91Cn-UriLS"
      }
    },
    {
      "cell_type": "markdown",
      "source": [
        "# Summary of Data Set\n",
        "We selected the Top 50 Spotify Songs for 2019 data set from Kaggle. This data set consists of 50 songs, each with 13 variables. The categorical variables are song name, artist name, and genre. The quantitative variables are beats per minute, energy, danceability, loudness, liveness, valence, length, acousticness, speechiness, and popularity. "
      ],
      "metadata": {
        "id": "JIPTjrZ1tQ1-"
      }
    }
  ]
}